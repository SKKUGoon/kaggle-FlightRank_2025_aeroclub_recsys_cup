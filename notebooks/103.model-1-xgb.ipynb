{
 "cells": [
  {
   "cell_type": "code",
   "execution_count": null,
   "id": "ed74b1b0",
   "metadata": {},
   "outputs": [],
   "source": [
    "import sys\n",
    "import os\n",
    "from dotenv import load_dotenv\n",
    "\n",
    "root_dir = os.path.abspath(\"..\")\n",
    "sys.path.append(root_dir)\n",
    "dotenv_path = os.path.join(root_dir, \".env\")\n",
    "load_dotenv(dotenv_path)"
   ]
  },
  {
   "cell_type": "code",
   "execution_count": null,
   "id": "c1573e29",
   "metadata": {},
   "outputs": [],
   "source": [
    "import xgboost as xgb\n",
    "import polars as pl\n",
    "from sklearn.model_selection import train_test_split\n",
    "import optuna\n",
    "from datetime import datetime"
   ]
  },
  {
   "cell_type": "code",
   "execution_count": null,
   "id": "840e3aaf",
   "metadata": {},
   "outputs": [],
   "source": [
    "train_df = pl.read_parquet(os.path.join(root_dir, \"data\", \"v2\", \"train.parquet\"))\n",
    "train_target = pl.read_parquet(os.path.join(root_dir, \"data\", \"v2\", \"train_target.parquet\"))\n",
    "test_df = pl.read_parquet(os.path.join(root_dir, \"data\", \"v2\", \"test.parquet\"))"
   ]
  },
  {
   "cell_type": "code",
   "execution_count": null,
   "id": "64e3da75",
   "metadata": {},
   "outputs": [],
   "source": [
    "train_ranker_ids = (\n",
    "    pl.scan_parquet(os.path.join(root_dir, \"kaggle\", \"train.parquet\"))\n",
    "    .select(\"ranker_id\")\n",
    "    .collect()\n",
    "    .with_row_index(\"row_id\")\n",
    ")\n",
    "test_ranker_ids = (\n",
    "    pl.scan_parquet(os.path.join(root_dir, \"kaggle\", \"test.parquet\"))\n",
    "    .select(\"ranker_id\")\n",
    "    .collect()\n",
    "    .with_row_index(\"row_id\")\n",
    ")"
   ]
  },
  {
   "cell_type": "code",
   "execution_count": null,
   "id": "cd34866d",
   "metadata": {},
   "outputs": [],
   "source": [
    "train_df = train_df.join(train_ranker_id, on ='row_id')\n",
    "test_df = test_df.join(test_ranker_id, on ='row_id')"
   ]
  },
  {
   "cell_type": "code",
   "execution_count": null,
   "id": "6d8c302c",
   "metadata": {},
   "outputs": [],
   "source": [
    "ranker_ids = train_df.select(\"ranker_id\").unique()"
   ]
  },
  {
   "cell_type": "code",
   "execution_count": null,
   "id": "207e19a5",
   "metadata": {},
   "outputs": [],
   "source": [
    "ranker_id_train, ranker_id_valid = train_test_split(\n",
    "    ranker_ids.to_numpy().reshape(-1),\n",
    "    test_size=0.25,\n",
    "    random_state=41,\n",
    "    shuffle=True,\n",
    ")"
   ]
  },
  {
   "cell_type": "code",
   "execution_count": null,
   "id": "7655b3db",
   "metadata": {},
   "outputs": [],
   "source": [
    "train_mask = train_df[\"ranker_id\"].is_in(ranker_id_train)\n",
    "valid_mask = train_df[\"ranker_id\"].is_in(ranker_id_valid)\n",
    "\n",
    "train_idx = train_mask.to_numpy().nonzero()[0]\n",
    "valid_idx = valid_mask.to_numpy().nonzero()[0]"
   ]
  },
  {
   "cell_type": "code",
   "execution_count": null,
   "id": "43c941d7",
   "metadata": {},
   "outputs": [],
   "source": [
    "X_train, X_val = train_df[train_idx], train_df[valid_idx]\n",
    "y_train, y_val = train_target[train_idx], train_target[valid_idx]\n",
    "\n",
    "print(f\"X_train: {X_train.shape}, y_train: {y_train.shape}\")\n",
    "print(f\"X_val: {X_val.shape}, y_val: {y_val.shape}\")"
   ]
  },
  {
   "cell_type": "code",
   "execution_count": null,
   "id": "2792c01b",
   "metadata": {},
   "outputs": [],
   "source": [
    "X_train_np = X_train.drop(\"ranker_id\", \"row_id\").to_numpy()\n",
    "y_train_np = y_train['selected'].to_numpy()\n",
    "\n",
    "X_val_np = X_val.drop(\"ranker_id\", \"row_id\").to_numpy()\n",
    "y_val_np = y_val['selected'].to_numpy()\n",
    "\n",
    "X_test_np = test_df.drop(\"ranker_id\", \"row_id\").to_numpy()\n",
    "\n",
    "train_group_sizes = X_train.group_by(\"ranker_id\").len().sort(\"ranker_id\")[\"len\"].to_numpy()\n",
    "val_group_sizes = X_val.group_by(\"ranker_id\").len().sort(\"ranker_id\")[\"len\"].to_numpy()\n",
    "test_group_sizes = X_test.group_by(\"ranker_id\").len().sort(\"ranker_id\")[\"len\"].to_numpy()"
   ]
  },
  {
   "cell_type": "code",
   "execution_count": null,
   "id": "bc0eea82",
   "metadata": {},
   "outputs": [],
   "source": [
    "print(\"Train group:\", train_group_sizes)\n",
    "print(\"Validation group:\", val_group_sizes)\n",
    "print(\"Test group:\", test_group_sizes)"
   ]
  },
  {
   "cell_type": "code",
   "execution_count": null,
   "id": "af7db56b",
   "metadata": {},
   "outputs": [],
   "source": [
    "dtrain = xgb.DMatrix(X_train_np, label=y_train_np)\n",
    "dtrain.set_group(train_group_sizes)\n",
    "\n",
    "dval = xgb.DMatrix(X_val_np, label=y_val_np)\n",
    "dval.set_group(val_group_sizes)\n",
    "\n",
    "dtest = xgb.DMatrix(X_test_np)\n",
    "dtest.set_group(test_group_sizes)"
   ]
  },
  {
   "cell_type": "code",
   "execution_count": null,
   "id": "62ca38bb",
   "metadata": {},
   "outputs": [],
   "source": [
    "# Optimize the hyper parameter using optuna\n",
    "def hitrate_at_3(y_true, y_pred, groups):\n",
    "    df = pl.DataFrame({\n",
    "        'group': groups,\n",
    "        'pred': y_pred,\n",
    "        'true': y_true\n",
    "    })\n",
    "    \n",
    "    return (\n",
    "        df.filter(pl.col(\"group\").count().over(\"group\") > 10)\n",
    "        .sort([\"group\", \"pred\"], descending=[False, True])\n",
    "        .group_by(\"group\", maintain_order=True)\n",
    "        .head(3)\n",
    "        .group_by(\"group\")\n",
    "        .agg(pl.col(\"true\").max())\n",
    "        .select(pl.col(\"true\").mean())\n",
    "        .item()\n",
    "    )\n",
    "\n",
    "def objective(trial):\n",
    "    param = {\n",
    "        \"objective\": \"rank:pairwise\",\n",
    "        \"eval_metric\": \"ndcg@3\",\n",
    "        \"learning_rate\": trial.suggest_float(\"learning_rate\", 0.01, 0.1),\n",
    "        \"max_depth\": trial.suggest_int(\"max_depth\", 12, 14),\n",
    "        \"min_child_weight\": trial.suggest_int(\"min_child_weight\", 10, 100),  # Increase to prevent overfit. Prevent splits on tiny groups\n",
    "        \"subsample\": trial.suggest_float(\"subsample\", 0.6, 0.9), # Force diversity. Force generalizable splits\n",
    "        \"colsample_bytree\": trial.suggest_float(\"colsample_bytree\", 0.3, 0.8), \n",
    "        \"gamma\": trial.suggest_float(\"gamma\", 1, 10.0, log=True),  # Avoid excessive meorization.\n",
    "        \"lambda\": trial.suggest_float(\"lambda\", 5, 50, log=True),  # Avoid excessive meorization.\n",
    "        \"alpha\": trial.suggest_float(\"alpha\", 1.0, 5.0, log=True),  # Avoid excessive meorization.\n",
    "        \"verbosity\": 1,\n",
    "        \"tree_method\": \"hist\",\n",
    "        \"n_jobs\": -1,\n",
    "        \"seed\": 42,\n",
    "    }\n",
    "\n",
    "    # Connects XGBoost's training process to Optuna's pruning mechanisms\n",
    "    # During train, XGBoost logs the eval-ndcg@3 score\n",
    "    # The callback watches that score and calls `trial.report(step-iteration)`\n",
    "    prune_callback = optuna.integration.XGBoostPruningCallback(trial, \"eval-ndcg@3\")\n",
    "\n",
    "    model = xgb.train(\n",
    "        param,\n",
    "        dtrain,\n",
    "        num_boost_round=800,\n",
    "        evals=[(dtrain, \"train\"), (dval, \"eval\")],\n",
    "        callbacks=[prune_callback],\n",
    "        early_stopping_rounds=30,\n",
    "    )\n",
    "\n",
    "    score = model.best_score  # `best_score` is only defined when early stopping is used.\n",
    "\n",
    "    # Calculate hitrate@3\n",
    "    y_pred = model.predict(dval)\n",
    "    hitrate_at_3_score = hitrate_at_3(y_val, y_pred, X_val['ranker_id'])\n",
    "    print(f\"Hitrate@3: {hitrate_at_3_score}\")\n",
    "\n",
    "    return score"
   ]
  },
  {
   "cell_type": "code",
   "execution_count": null,
   "id": "744d3ca2",
   "metadata": {},
   "outputs": [],
   "source": [
    "study = optuna.create_study(\n",
    "    direction=\"maximize\", \n",
    "    storage=f\"sqlite:///{os.path.join(root_dir, 'db.sqlite3')}\", \n",
    "    pruner=optuna.pruners.MedianPruner(n_warmup_steps=10),\n",
    "    study_name=f'xgb_{datetime.now().strftime('%Y%m%d_%H%M%S')}'\n",
    ")\n",
    "study.optimize(objective, n_trials=50)  # ⏱️ takes time\n",
    "\n",
    "print(\"[BEST PARAMS]\")\n",
    "print(study.best_params)\n",
    "print(\"Best NDCG@3:\", study.best_value)"
   ]
  },
  {
   "cell_type": "code",
   "execution_count": null,
   "id": "7aea207a",
   "metadata": {},
   "outputs": [],
   "source": [
    "# XGBoost best parameters\n",
    "params = {\n",
    "    'objective': 'rank:pairwise',\n",
    "    'eval_metric': 'ndcg@3',\n",
    "    'seed': 42,\n",
    "    'n_jobs': -1,\n",
    "    **study.best_params,\n",
    "    # 'device': 'cuda'\n",
    "}\n",
    "\n",
    "watchlist = [(dtrain, \"train\"), (dval, \"eval\")]\n",
    "\n",
    "model = xgb.train(\n",
    "    params,\n",
    "    dtrain,\n",
    "    num_boost_round=2000,\n",
    "    evals=watchlist,\n",
    "    early_stopping_rounds=100,\n",
    ")"
   ]
  },
  {
   "cell_type": "code",
   "execution_count": null,
   "id": "48b5dfad",
   "metadata": {},
   "outputs": [],
   "source": [
    "pred_scores = model.predict(dtest)"
   ]
  },
  {
   "cell_type": "code",
   "execution_count": null,
   "id": "f2e58a05",
   "metadata": {},
   "outputs": [],
   "source": [
    "original = pl.read_parquet(os.path.join(root_dir, \"kaggle\", \"test.parquet\"))\n",
    "original = (\n",
    "    original\n",
    "    .select([\"Id\", \"ranker_id\"])\n",
    "    .with_columns(\n",
    "        pl.Series(\"score\", pred_scores)\n",
    "    )\n",
    "    .with_columns(\n",
    "        pl.col('score')\n",
    "        .rank(method='ordinal', descending=True)\n",
    "        .over('ranker_id')\n",
    "        .alias('selected')\n",
    "    )\n",
    "    .select([\"Id\", \"ranker_id\", \"selected\"])\n",
    "    .with_columns(\n",
    "        pl.col(\"Id\").cast(pl.Int64), \n",
    "        pl.col(\"selected\").cast(pl.Int64)\n",
    "    )\n",
    ")"
   ]
  },
  {
   "cell_type": "code",
   "execution_count": null,
   "id": "a5b1676f",
   "metadata": {},
   "outputs": [],
   "source": [
    "original.write_csv(os.path.join(root_dir, \"submission\", f\"submission_{datetime.now().strftime('%Y%m%d_%H%M%S')}.csv\"))"
   ]
  },
  {
   "cell_type": "code",
   "execution_count": null,
   "id": "d8f7ee0c",
   "metadata": {},
   "outputs": [],
   "source": []
  }
 ],
 "metadata": {
  "kernelspec": {
   "display_name": ".venv",
   "language": "python",
   "name": "python3"
  },
  "language_info": {
   "codemirror_mode": {
    "name": "ipython",
    "version": 3
   },
   "file_extension": ".py",
   "mimetype": "text/x-python",
   "name": "python",
   "nbconvert_exporter": "python",
   "pygments_lexer": "ipython3",
   "version": "3.12.9"
  }
 },
 "nbformat": 4,
 "nbformat_minor": 5
}
