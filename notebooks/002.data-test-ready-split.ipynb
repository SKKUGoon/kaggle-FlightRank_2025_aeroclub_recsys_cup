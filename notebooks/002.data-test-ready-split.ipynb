{
 "cells": [
  {
   "cell_type": "code",
   "execution_count": 2,
   "id": "d48c9033",
   "metadata": {},
   "outputs": [
    {
     "data": {
      "text/plain": [
       "True"
      ]
     },
     "execution_count": 2,
     "metadata": {},
     "output_type": "execute_result"
    }
   ],
   "source": [
    "import sys\n",
    "import os\n",
    "from dotenv import load_dotenv\n",
    "\n",
    "root_dir = os.path.abspath(\"..\")\n",
    "sys.path.append(root_dir)\n",
    "dotenv_path = os.path.join(root_dir, \".env\")\n",
    "load_dotenv(dotenv_path)"
   ]
  },
  {
   "cell_type": "code",
   "execution_count": 3,
   "id": "e2c18ea6",
   "metadata": {},
   "outputs": [],
   "source": [
    "import polars as pl\n",
    "import numpy as np"
   ]
  },
  {
   "cell_type": "markdown",
   "id": "752439c8",
   "metadata": {},
   "source": [
    "# Final prep\n",
    "\n",
    "* Join features and target\n",
    "  * In test case - the target is dummy\n",
    "* No Splitting required"
   ]
  },
  {
   "cell_type": "code",
   "execution_count": 4,
   "id": "ae69070c",
   "metadata": {},
   "outputs": [],
   "source": [
    "SESSION_ID = os.path.join(root_dir, \"kaggle\", \"test.parquet\")\n",
    "\n",
    "TEST_FEATURES = os.path.join(root_dir, \"data\", \"processed_test_features.parquet\")\n",
    "\n",
    "TARGET_COL = \"dummy_selected\""
   ]
  },
  {
   "cell_type": "code",
   "execution_count": 5,
   "id": "7b2d79db",
   "metadata": {},
   "outputs": [],
   "source": [
    "session_id = pl.read_parquet(SESSION_ID).select([\"ranker_id\"]).with_row_index(\"row_id\")\n",
    "feat = pl.read_parquet(TEST_FEATURES)"
   ]
  },
  {
   "cell_type": "code",
   "execution_count": 10,
   "id": "216cf332",
   "metadata": {},
   "outputs": [],
   "source": [
    "feat_with_dummy = (\n",
    "    feat\n",
    "    .with_columns([\n",
    "        pl.lit(0).alias(TARGET_COL)\n",
    "    ])\n",
    "    .join(session_id, on='row_id')\n",
    ")"
   ]
  },
  {
   "cell_type": "code",
   "execution_count": 11,
   "id": "fd0094a9",
   "metadata": {},
   "outputs": [],
   "source": [
    "feat_with_dummy.write_parquet(os.path.join(root_dir, \"data\", \"test\", \"test.parquet\"))"
   ]
  }
 ],
 "metadata": {
  "kernelspec": {
   "display_name": ".venv",
   "language": "python",
   "name": "python3"
  },
  "language_info": {
   "codemirror_mode": {
    "name": "ipython",
    "version": 3
   },
   "file_extension": ".py",
   "mimetype": "text/x-python",
   "name": "python",
   "nbconvert_exporter": "python",
   "pygments_lexer": "ipython3",
   "version": "3.12.9"
  }
 },
 "nbformat": 4,
 "nbformat_minor": 5
}
