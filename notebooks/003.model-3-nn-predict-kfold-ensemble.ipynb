{
 "cells": [
  {
   "cell_type": "code",
   "execution_count": 1,
   "id": "ad8feb6c",
   "metadata": {},
   "outputs": [
    {
     "data": {
      "text/plain": [
       "True"
      ]
     },
     "execution_count": 1,
     "metadata": {},
     "output_type": "execute_result"
    }
   ],
   "source": [
    "import sys\n",
    "import os\n",
    "from dotenv import load_dotenv\n",
    "\n",
    "root_dir = os.path.abspath(\"..\")\n",
    "sys.path.append(root_dir)\n",
    "dotenv_path = os.path.join(root_dir, \".env\")\n",
    "load_dotenv(dotenv_path)"
   ]
  },
  {
   "cell_type": "code",
   "execution_count": 2,
   "id": "3136798a",
   "metadata": {},
   "outputs": [],
   "source": [
    "from src.data_insert import ParquetRankDataset\n",
    "from src.model import SetRank\n",
    "\n",
    "import polars as pl\n",
    "from torch.utils.data import DataLoader\n",
    "import torch\n",
    "from datetime import datetime"
   ]
  },
  {
   "cell_type": "code",
   "execution_count": 3,
   "id": "9c4fb2b9",
   "metadata": {},
   "outputs": [],
   "source": [
    "NORMALIZATION = os.path.join(root_dir, \"data\", \"train\", \"train_split_0.parquet\")\n",
    "test_file_paths = [os.path.join(root_dir, \"data\", \"test\", \"test.parquet\")]"
   ]
  },
  {
   "cell_type": "code",
   "execution_count": 4,
   "id": "f748022e",
   "metadata": {},
   "outputs": [
    {
     "name": "stderr",
     "output_type": "stream",
     "text": [
      "/Users/goonzard/Developer/data-science-09-kaggle-airplane/src/data_insert.py:30: PerformanceWarning: Determining the column names of a LazyFrame requires resolving its schema, which is a potentially expensive operation. Use `LazyFrame.collect_schema().names()` to get the column names without this warning.\n",
      "  self.feature_cols: list[str] = [c for c in first_schema.columns if c not in self.exclude_feature_cols]\n"
     ]
    },
    {
     "name": "stdout",
     "output_type": "stream",
     "text": [
      "[INFO] Normalization stats loaded from /Users/goonzard/Developer/data-science-09-kaggle-airplane/data/train/train_split_0.parquet\n",
      "[INFO] Example mean/std: [('emb_0', 0.044884927570819855), ('emb_1', -0.026697352528572083), ('emb_2', -0.10396946221590042), ('emb_3', 0.04172823578119278), ('emb_4', -0.01801719330251217)]\n"
     ]
    }
   ],
   "source": [
    "EXCLUDED_COLS = ['row_id', 'ranker_id', 'selected']\n",
    "\n",
    "LABEL_COL = 'dummy_selected'\n",
    "GROUP_COL = 'ranker_id'\n",
    "\n",
    "test_dataset_stream = ParquetRankDataset(\n",
    "    parquet_paths=test_file_paths,\n",
    "    exclude_feature_cols=EXCLUDED_COLS,\n",
    "    label_col=LABEL_COL,\n",
    "    group_col=GROUP_COL,\n",
    "    max_rows=4096,\n",
    "    normalization_parquet=NORMALIZATION\n",
    ")"
   ]
  },
  {
   "cell_type": "code",
   "execution_count": 5,
   "id": "10f27ffe",
   "metadata": {},
   "outputs": [],
   "source": [
    "LEARNING_RATE = 1e-3\n",
    "WEIGHT_DECAY = 1e-4\n",
    "\n",
    "VAL_INTERVAL = 40000\n",
    "PATIENCE = 3\n",
    "BEST_VAL_LOSS = float(\"inf\")\n",
    "NO_IMPROVE_COUNT = 0\n",
    "\n",
    "NUM_EPOCHS = 3\n",
    "\n",
    "SAVED_MODEL_FILE = [\n",
    "    os.path.join(root_dir, \"models\", \"best_model_3_SETRANK_1.pt\"),\n",
    "    os.path.join(root_dir, \"models\", \"best_model_3_SETRANK_2.pt\"),\n",
    "    os.path.join(root_dir, \"models\", \"best_model_3_SETRANK_3.pt\"),\n",
    "    os.path.join(root_dir, \"models\", \"best_model_3_SETRANK_4.pt\"),\n",
    "    os.path.join(root_dir, \"models\", \"best_model_3_SETRANK_5.pt\"),\n",
    "]"
   ]
  },
  {
   "cell_type": "code",
   "execution_count": 6,
   "id": "96e017fe",
   "metadata": {},
   "outputs": [],
   "source": [
    "test_loader = DataLoader(test_dataset_stream, batch_size=None, shuffle=False)\n",
    "\n",
    "if torch.backends.mps.is_available():\n",
    "    device = torch.device(\"mps\")  # Apple Silicon GPU via Metal\n",
    "else:\n",
    "    device = torch.device(\"cuda\" if torch.cuda.is_available() else \"cpu\")"
   ]
  },
  {
   "cell_type": "code",
   "execution_count": 7,
   "id": "4e025bcc",
   "metadata": {},
   "outputs": [],
   "source": [
    "def build_model():\n",
    "    m = SetRank(\n",
    "        input_dim=test_dataset_stream.feature_len, \n",
    "        hidden_dim=128,\n",
    "        num_heads=4,\n",
    "        num_layers=2,\n",
    "    )\n",
    "    return m"
   ]
  },
  {
   "cell_type": "code",
   "execution_count": 9,
   "id": "5db6e1c6",
   "metadata": {},
   "outputs": [
    {
     "name": "stdout",
     "output_type": "stream",
     "text": [
      "[INFO] Loading model /Users/goonzard/Developer/data-science-09-kaggle-airplane/models/best_model_3_SETRANK_1.pt\n",
      "[INFO] Loading model /Users/goonzard/Developer/data-science-09-kaggle-airplane/models/best_model_3_SETRANK_2.pt\n",
      "[INFO] Loading model /Users/goonzard/Developer/data-science-09-kaggle-airplane/models/best_model_3_SETRANK_3.pt\n",
      "[INFO] Loading model /Users/goonzard/Developer/data-science-09-kaggle-airplane/models/best_model_3_SETRANK_4.pt\n",
      "[INFO] Loading model /Users/goonzard/Developer/data-science-09-kaggle-airplane/models/best_model_3_SETRANK_5.pt\n",
      "[INFO] Ensemble inference completed torch.Size([6897776]) torch.Size([6897776])\n"
     ]
    }
   ],
   "source": [
    "ensemble_scores = None\n",
    "all_groups = None\n",
    "\n",
    "for idx, model_file in enumerate(SAVED_MODEL_FILE):\n",
    "    print(f\"[INFO] Loading model {model_file}\")\n",
    "    model = build_model()\n",
    "    state_dict = torch.load(model_file, map_location=device)\n",
    "    model.load_state_dict(state_dict)\n",
    "    model.to(device)\n",
    "    model.eval()\n",
    "\n",
    "    fold_scores = []\n",
    "    fold_groups = []\n",
    "\n",
    "    with torch.no_grad():\n",
    "        for X, _, G in test_loader:\n",
    "            X = X.to(device)\n",
    "            scores = model(X)\n",
    "            fold_scores.extend(scores.cpu())\n",
    "            fold_groups.extend(G.cpu())\n",
    "\n",
    "    fold_scores = torch.tensor(fold_scores)\n",
    "    fold_groups = torch.tensor(fold_groups)\n",
    "\n",
    "    if ensemble_scores is None:\n",
    "        ensemble_scores = fold_scores\n",
    "        all_groups = fold_groups\n",
    "    else:\n",
    "        ensemble_scores += fold_scores  # Accumulate scores\n",
    "\n",
    "ensemble_scores = ensemble_scores / len(SAVED_MODEL_FILE)\n",
    "print(\"[INFO] Ensemble inference completed\", ensemble_scores.shape, all_groups.shape)"
   ]
  },
  {
   "cell_type": "code",
   "execution_count": 11,
   "id": "d3dd3867",
   "metadata": {},
   "outputs": [],
   "source": [
    "# POST-PROCESS TO SUBMISSION\n",
    "df_pred = (\n",
    "    pl.DataFrame({\n",
    "        \"score\": ensemble_scores.numpy()\n",
    "    })\n",
    "    .with_row_index(\"id\")\n",
    ")\n",
    "\n",
    "# Replace `ranker_id` with original column\n",
    "original_ranker_id = (\n",
    "    pl.read_parquet(test_file_paths[0])\n",
    "    .select([\"ranker_id\"])\n",
    "    .with_row_index(\"id\")\n",
    ")\n",
    "\n",
    "# Replace `Id` with the original columns\n",
    "original = pl.read_parquet(os.path.join(root_dir, \"kaggle\", \"test.parquet\"))\n",
    "original = original.select(\"Id\").with_row_index(\"id\")\n",
    "\n",
    "df_pred = (\n",
    "    df_pred\n",
    "    .join(original_ranker_id, on=\"id\")\n",
    "    .join(original, on=\"id\")\n",
    ")\n",
    "\n",
    "final_result = df_pred.with_columns(\n",
    "    pl.col(\"score\")\n",
    "    .rank(method='ordinal', descending=True)\n",
    "    .over(\"ranker_id\")\n",
    "    .alias(\"selected\")\n",
    ").select([\"Id\", \"ranker_id\", \"selected\"])\n",
    "\n",
    "final_result = final_result.with_columns(\n",
    "    pl.col(\"Id\").cast(pl.Int64),\n",
    "    pl.col(\"selected\").cast(pl.Int64)\n",
    ")\n",
    "\n",
    "(\n",
    "    final_result\n",
    "    .write_csv(os.path.join(root_dir, \"submission\", f\"submission_{datetime.now().strftime('%Y%m%d_%H%M%S')}.csv\"))\n",
    ")"
   ]
  },
  {
   "cell_type": "code",
   "execution_count": null,
   "id": "529361e9",
   "metadata": {},
   "outputs": [],
   "source": []
  }
 ],
 "metadata": {
  "kernelspec": {
   "display_name": ".venv",
   "language": "python",
   "name": "python3"
  },
  "language_info": {
   "codemirror_mode": {
    "name": "ipython",
    "version": 3
   },
   "file_extension": ".py",
   "mimetype": "text/x-python",
   "name": "python",
   "nbconvert_exporter": "python",
   "pygments_lexer": "ipython3",
   "version": "3.12.9"
  }
 },
 "nbformat": 4,
 "nbformat_minor": 5
}
