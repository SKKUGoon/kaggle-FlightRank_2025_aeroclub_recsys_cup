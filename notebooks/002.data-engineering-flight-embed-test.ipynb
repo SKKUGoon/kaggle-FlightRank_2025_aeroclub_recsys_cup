{
 "cells": [
  {
   "cell_type": "code",
   "execution_count": 1,
   "id": "c88c0112",
   "metadata": {},
   "outputs": [
    {
     "data": {
      "text/plain": [
       "False"
      ]
     },
     "execution_count": 1,
     "metadata": {},
     "output_type": "execute_result"
    }
   ],
   "source": [
    "import sys\n",
    "import os\n",
    "from dotenv import load_dotenv\n",
    "\n",
    "root_dir = os.path.abspath(\"..\")\n",
    "sys.path.append(root_dir)\n",
    "dotenv_path = os.path.join(root_dir, \".env\")\n",
    "load_dotenv(dotenv_path)"
   ]
  },
  {
   "cell_type": "code",
   "execution_count": null,
   "id": "5d941363",
   "metadata": {},
   "outputs": [],
   "source": [
    "import polars as pl"
   ]
  },
  {
   "cell_type": "code",
   "execution_count": null,
   "id": "471b9551",
   "metadata": {},
   "outputs": [],
   "source": [
    "flight_feats_path_test = os.path.join(root_dir, \"data\", \"processed_flight_features_test.parquet\")\n",
    "flight_feats_test = pl.read_parquet(flight_feats_path_test, low_memory=True)"
   ]
  },
  {
   "cell_type": "code",
   "execution_count": 4,
   "id": "127abbc5",
   "metadata": {},
   "outputs": [
    {
     "data": {
      "text/html": [
       "<div><style>\n",
       ".dataframe > thead > tr,\n",
       ".dataframe > tbody > tr {\n",
       "  text-align: right;\n",
       "  white-space: pre-wrap;\n",
       "}\n",
       "</style>\n",
       "<small>shape: (18_145_372, 11)</small><table border=\"1\" class=\"dataframe\"><thead><tr><th>row_id</th><th>flight_duration_minutes</th><th>baggage_pieces</th><th>baggage_kg</th><th>aircraft_capacity_est</th><th>seats_available_pct</th><th>distance_km</th><th>haul_class</th><th>is_night_flight</th><th>is_domestic</th><th>flight_text</th></tr><tr><td>u32</td><td>i64</td><td>i64</td><td>i64</td><td>i64</td><td>f64</td><td>i64</td><td>i64</td><td>i64</td><td>i64</td><td>str</td></tr></thead><tbody><tr><td>0</td><td>160</td><td>0</td><td>0</td><td>150</td><td>6.0</td><td>1163</td><td>1</td><td>0</td><td>1</td><td>&quot;Direct flight: Sky Regional Ai…</td></tr><tr><td>1</td><td>170</td><td>0</td><td>0</td><td>150</td><td>2.67</td><td>1767</td><td>1</td><td>0</td><td>1</td><td>&quot;Direct flight: S7 Airlines (Ru…</td></tr><tr><td>2</td><td>170</td><td>0</td><td>0</td><td>150</td><td>2.67</td><td>1767</td><td>1</td><td>0</td><td>1</td><td>&quot;Direct flight: S7 Airlines (Ru…</td></tr><tr><td>3</td><td>170</td><td>0</td><td>0</td><td>150</td><td>2.67</td><td>1767</td><td>1</td><td>0</td><td>1</td><td>&quot;Direct flight: S7 Airlines (Ru…</td></tr><tr><td>4</td><td>170</td><td>0</td><td>0</td><td>150</td><td>2.67</td><td>1767</td><td>1</td><td>0</td><td>1</td><td>&quot;Direct flight: S7 Airlines (Ru…</td></tr><tr><td>&hellip;</td><td>&hellip;</td><td>&hellip;</td><td>&hellip;</td><td>&hellip;</td><td>&hellip;</td><td>&hellip;</td><td>&hellip;</td><td>&hellip;</td><td>&hellip;</td><td>&hellip;</td></tr><tr><td>18145367</td><td>200</td><td>0</td><td>0</td><td>150</td><td>2.0</td><td>2163</td><td>1</td><td>0</td><td>1</td><td>&quot;Direct flight: UTair Aviation …</td></tr><tr><td>18145368</td><td>125</td><td>0</td><td>0</td><td>150</td><td>2.0</td><td>1185</td><td>1</td><td>0</td><td>1</td><td>&quot;Direct flight: UTair Aviation …</td></tr><tr><td>18145369</td><td>125</td><td>0</td><td>0</td><td>150</td><td>2.0</td><td>1185</td><td>1</td><td>0</td><td>1</td><td>&quot;Direct flight: UTair Aviation …</td></tr><tr><td>18145370</td><td>105</td><td>0</td><td>0</td><td>150</td><td>2.67</td><td>860</td><td>1</td><td>0</td><td>1</td><td>&quot;Direct flight: UTair Aviation …</td></tr><tr><td>18145371</td><td>105</td><td>0</td><td>0</td><td>150</td><td>6.0</td><td>860</td><td>1</td><td>0</td><td>1</td><td>&quot;Direct flight: UTair Aviation …</td></tr></tbody></table></div>"
      ],
      "text/plain": [
       "shape: (18_145_372, 11)\n",
       "┌──────────┬───────────┬───────────┬───────────┬───┬───────────┬───────────┬───────────┬───────────┐\n",
       "│ row_id   ┆ flight_du ┆ baggage_p ┆ baggage_k ┆ … ┆ haul_clas ┆ is_night_ ┆ is_domest ┆ flight_te │\n",
       "│ ---      ┆ ration_mi ┆ ieces     ┆ g         ┆   ┆ s         ┆ flight    ┆ ic        ┆ xt        │\n",
       "│ u32      ┆ nutes     ┆ ---       ┆ ---       ┆   ┆ ---       ┆ ---       ┆ ---       ┆ ---       │\n",
       "│          ┆ ---       ┆ i64       ┆ i64       ┆   ┆ i64       ┆ i64       ┆ i64       ┆ str       │\n",
       "│          ┆ i64       ┆           ┆           ┆   ┆           ┆           ┆           ┆           │\n",
       "╞══════════╪═══════════╪═══════════╪═══════════╪═══╪═══════════╪═══════════╪═══════════╪═══════════╡\n",
       "│ 0        ┆ 160       ┆ 0         ┆ 0         ┆ … ┆ 1         ┆ 0         ┆ 1         ┆ Direct    │\n",
       "│          ┆           ┆           ┆           ┆   ┆           ┆           ┆           ┆ flight:   │\n",
       "│          ┆           ┆           ┆           ┆   ┆           ┆           ┆           ┆ Sky       │\n",
       "│          ┆           ┆           ┆           ┆   ┆           ┆           ┆           ┆ Regional  │\n",
       "│          ┆           ┆           ┆           ┆   ┆           ┆           ┆           ┆ Ai…       │\n",
       "│ 1        ┆ 170       ┆ 0         ┆ 0         ┆ … ┆ 1         ┆ 0         ┆ 1         ┆ Direct    │\n",
       "│          ┆           ┆           ┆           ┆   ┆           ┆           ┆           ┆ flight:   │\n",
       "│          ┆           ┆           ┆           ┆   ┆           ┆           ┆           ┆ S7        │\n",
       "│          ┆           ┆           ┆           ┆   ┆           ┆           ┆           ┆ Airlines  │\n",
       "│          ┆           ┆           ┆           ┆   ┆           ┆           ┆           ┆ (Ru…      │\n",
       "│ 2        ┆ 170       ┆ 0         ┆ 0         ┆ … ┆ 1         ┆ 0         ┆ 1         ┆ Direct    │\n",
       "│          ┆           ┆           ┆           ┆   ┆           ┆           ┆           ┆ flight:   │\n",
       "│          ┆           ┆           ┆           ┆   ┆           ┆           ┆           ┆ S7        │\n",
       "│          ┆           ┆           ┆           ┆   ┆           ┆           ┆           ┆ Airlines  │\n",
       "│          ┆           ┆           ┆           ┆   ┆           ┆           ┆           ┆ (Ru…      │\n",
       "│ 3        ┆ 170       ┆ 0         ┆ 0         ┆ … ┆ 1         ┆ 0         ┆ 1         ┆ Direct    │\n",
       "│          ┆           ┆           ┆           ┆   ┆           ┆           ┆           ┆ flight:   │\n",
       "│          ┆           ┆           ┆           ┆   ┆           ┆           ┆           ┆ S7        │\n",
       "│          ┆           ┆           ┆           ┆   ┆           ┆           ┆           ┆ Airlines  │\n",
       "│          ┆           ┆           ┆           ┆   ┆           ┆           ┆           ┆ (Ru…      │\n",
       "│ 4        ┆ 170       ┆ 0         ┆ 0         ┆ … ┆ 1         ┆ 0         ┆ 1         ┆ Direct    │\n",
       "│          ┆           ┆           ┆           ┆   ┆           ┆           ┆           ┆ flight:   │\n",
       "│          ┆           ┆           ┆           ┆   ┆           ┆           ┆           ┆ S7        │\n",
       "│          ┆           ┆           ┆           ┆   ┆           ┆           ┆           ┆ Airlines  │\n",
       "│          ┆           ┆           ┆           ┆   ┆           ┆           ┆           ┆ (Ru…      │\n",
       "│ …        ┆ …         ┆ …         ┆ …         ┆ … ┆ …         ┆ …         ┆ …         ┆ …         │\n",
       "│ 18145367 ┆ 200       ┆ 0         ┆ 0         ┆ … ┆ 1         ┆ 0         ┆ 1         ┆ Direct    │\n",
       "│          ┆           ┆           ┆           ┆   ┆           ┆           ┆           ┆ flight:   │\n",
       "│          ┆           ┆           ┆           ┆   ┆           ┆           ┆           ┆ UTair     │\n",
       "│          ┆           ┆           ┆           ┆   ┆           ┆           ┆           ┆ Aviation  │\n",
       "│          ┆           ┆           ┆           ┆   ┆           ┆           ┆           ┆ …         │\n",
       "│ 18145368 ┆ 125       ┆ 0         ┆ 0         ┆ … ┆ 1         ┆ 0         ┆ 1         ┆ Direct    │\n",
       "│          ┆           ┆           ┆           ┆   ┆           ┆           ┆           ┆ flight:   │\n",
       "│          ┆           ┆           ┆           ┆   ┆           ┆           ┆           ┆ UTair     │\n",
       "│          ┆           ┆           ┆           ┆   ┆           ┆           ┆           ┆ Aviation  │\n",
       "│          ┆           ┆           ┆           ┆   ┆           ┆           ┆           ┆ …         │\n",
       "│ 18145369 ┆ 125       ┆ 0         ┆ 0         ┆ … ┆ 1         ┆ 0         ┆ 1         ┆ Direct    │\n",
       "│          ┆           ┆           ┆           ┆   ┆           ┆           ┆           ┆ flight:   │\n",
       "│          ┆           ┆           ┆           ┆   ┆           ┆           ┆           ┆ UTair     │\n",
       "│          ┆           ┆           ┆           ┆   ┆           ┆           ┆           ┆ Aviation  │\n",
       "│          ┆           ┆           ┆           ┆   ┆           ┆           ┆           ┆ …         │\n",
       "│ 18145370 ┆ 105       ┆ 0         ┆ 0         ┆ … ┆ 1         ┆ 0         ┆ 1         ┆ Direct    │\n",
       "│          ┆           ┆           ┆           ┆   ┆           ┆           ┆           ┆ flight:   │\n",
       "│          ┆           ┆           ┆           ┆   ┆           ┆           ┆           ┆ UTair     │\n",
       "│          ┆           ┆           ┆           ┆   ┆           ┆           ┆           ┆ Aviation  │\n",
       "│          ┆           ┆           ┆           ┆   ┆           ┆           ┆           ┆ …         │\n",
       "│ 18145371 ┆ 105       ┆ 0         ┆ 0         ┆ … ┆ 1         ┆ 0         ┆ 1         ┆ Direct    │\n",
       "│          ┆           ┆           ┆           ┆   ┆           ┆           ┆           ┆ flight:   │\n",
       "│          ┆           ┆           ┆           ┆   ┆           ┆           ┆           ┆ UTair     │\n",
       "│          ┆           ┆           ┆           ┆   ┆           ┆           ┆           ┆ Aviation  │\n",
       "│          ┆           ┆           ┆           ┆   ┆           ┆           ┆           ┆ …         │\n",
       "└──────────┴───────────┴───────────┴───────────┴───┴───────────┴───────────┴───────────┴───────────┘"
      ]
     },
     "execution_count": 4,
     "metadata": {},
     "output_type": "execute_result"
    }
   ],
   "source": [
    "flight_feats"
   ]
  },
  {
   "cell_type": "code",
   "execution_count": null,
   "id": "dc189177",
   "metadata": {},
   "outputs": [],
   "source": []
  }
 ],
 "metadata": {
  "kernelspec": {
   "display_name": ".venv",
   "language": "python",
   "name": "python3"
  },
  "language_info": {
   "codemirror_mode": {
    "name": "ipython",
    "version": 3
   },
   "file_extension": ".py",
   "mimetype": "text/x-python",
   "name": "python",
   "nbconvert_exporter": "python",
   "pygments_lexer": "ipython3",
   "version": "3.12.9"
  }
 },
 "nbformat": 4,
 "nbformat_minor": 5
}
