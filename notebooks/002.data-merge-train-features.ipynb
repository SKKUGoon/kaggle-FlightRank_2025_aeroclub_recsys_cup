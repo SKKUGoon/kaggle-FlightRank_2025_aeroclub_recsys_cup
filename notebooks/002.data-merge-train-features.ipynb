{
 "cells": [
  {
   "cell_type": "code",
   "execution_count": 1,
   "id": "1a756b47",
   "metadata": {},
   "outputs": [
    {
     "data": {
      "text/plain": [
       "True"
      ]
     },
     "execution_count": 1,
     "metadata": {},
     "output_type": "execute_result"
    }
   ],
   "source": [
    "import sys\n",
    "import os\n",
    "from dotenv import load_dotenv\n",
    "\n",
    "root_dir = os.path.abspath(\"..\")\n",
    "sys.path.append(root_dir)\n",
    "dotenv_path = os.path.join(root_dir, \".env\")\n",
    "load_dotenv(dotenv_path)"
   ]
  },
  {
   "cell_type": "code",
   "execution_count": 2,
   "id": "25b0533a",
   "metadata": {},
   "outputs": [],
   "source": [
    "import polars as pl"
   ]
  },
  {
   "cell_type": "code",
   "execution_count": null,
   "id": "9d9136ee",
   "metadata": {},
   "outputs": [],
   "source": [
    "ORIGINAL = os.path.join(root_dir, \"kaggle\", \"train.parquet\")\n",
    "\n",
    "FILE_EMBEDDING = os.path.join(root_dir, \"data\", \"embed_flight_feature_train.parquet\")\n",
    "FILE_FLIGHT = os.path.join(root_dir, \"data\", \"processed_flight_features_train.parquet\")\n",
    "FILE_PRICE = os.path.join(root_dir, \"data\", \"processed_pricing_features_train.parquet\")\n",
    "FILE_USER = os.path.join(root_dir, \"data\", \"processed_user_features_train.parquet\")\n",
    "FILE_ADDITIONAL = os.path.join(root_dir, \"data\", \"processed_additional_features_train.parquet\")"
   ]
  },
  {
   "cell_type": "markdown",
   "id": "c054c6f5",
   "metadata": {},
   "source": [
    "### Features"
   ]
  },
  {
   "cell_type": "code",
   "execution_count": 4,
   "id": "f731b8fb",
   "metadata": {},
   "outputs": [
    {
     "name": "stdout",
     "output_type": "stream",
     "text": [
      "[INFO] Reading parquet files...\n",
      "[INFO] Shapes:\n",
      "embed : (18145372, 385)\n",
      "flight: (18145372, 11)\n",
      "price : (18145372, 10)\n",
      "user  : (18145372, 10)\n",
      "add   : (18145372, 8)\n"
     ]
    }
   ],
   "source": [
    "print(\"[INFO] Reading parquet files...\")\n",
    "df_embed  = pl.read_parquet(FILE_EMBEDDING)\n",
    "df_flight = pl.read_parquet(FILE_FLIGHT)\n",
    "df_price  = pl.read_parquet(FILE_PRICE)\n",
    "df_user   = pl.read_parquet(FILE_USER)\n",
    "df_add    = pl.read_parquet(FILE_ADDITIONAL)\n",
    "\n",
    "print(\"[INFO] Shapes:\")\n",
    "print(\"embed :\", df_embed.shape)\n",
    "print(\"flight:\", df_flight.shape)\n",
    "print(\"price :\", df_price.shape)\n",
    "print(\"user  :\", df_user.shape)\n",
    "print(\"add   :\", df_add.shape)"
   ]
  },
  {
   "cell_type": "code",
   "execution_count": 5,
   "id": "89e120d6",
   "metadata": {},
   "outputs": [
    {
     "name": "stdout",
     "output_type": "stream",
     "text": [
      "[INFO] Dropped column `flight_text` from flight features -as it has been embedded\n"
     ]
    }
   ],
   "source": [
    "if \"flight_text\" in df_flight.columns:\n",
    "    df_flight = df_flight.drop(\"flight_text\")\n",
    "    print(\"[INFO] Dropped column `flight_text` from flight features -as it has been embedded\")"
   ]
  },
  {
   "cell_type": "code",
   "execution_count": 6,
   "id": "d563a740",
   "metadata": {},
   "outputs": [],
   "source": [
    "assert \"row_id\" in df_embed.columns\n",
    "assert \"row_id\" in df_flight.columns\n",
    "assert \"row_id\" in df_price.columns\n",
    "assert \"row_id\" in df_user.columns\n",
    "assert \"row_id\" in df_add.columns"
   ]
  },
  {
   "cell_type": "code",
   "execution_count": 7,
   "id": "1af90a69",
   "metadata": {},
   "outputs": [],
   "source": [
    "merged_df = (\n",
    "    df_embed\n",
    "    .join(df_flight, on=\"row_id\")\n",
    "    .join(df_price, on=\"row_id\")\n",
    "    .join(df_user, on=\"row_id\")\n",
    "    .join(df_add, on=\"row_id\")\n",
    ")"
   ]
  },
  {
   "cell_type": "code",
   "execution_count": 8,
   "id": "431d8496",
   "metadata": {},
   "outputs": [],
   "source": [
    "merged_df.write_parquet(os.path.join(root_dir, \"data\", \"processed_train_features.parquet\"))"
   ]
  },
  {
   "cell_type": "markdown",
   "id": "f2ddf566",
   "metadata": {},
   "source": [
    "### Targets"
   ]
  },
  {
   "cell_type": "code",
   "execution_count": null,
   "id": "382bcff0",
   "metadata": {},
   "outputs": [],
   "source": [
    "d = pl.read_parquet(ORIGINAL)\n",
    "(\n",
    "    d\n",
    "    .select([\"selected\"])\n",
    "    .write_parquet(\n",
    "        os.path.join(root_dir, \"data\", \"processed_train_targets.parquet\")\n",
    "    )\n",
    ")"
   ]
  }
 ],
 "metadata": {
  "kernelspec": {
   "display_name": ".venv",
   "language": "python",
   "name": "python3"
  },
  "language_info": {
   "codemirror_mode": {
    "name": "ipython",
    "version": 3
   },
   "file_extension": ".py",
   "mimetype": "text/x-python",
   "name": "python",
   "nbconvert_exporter": "python",
   "pygments_lexer": "ipython3",
   "version": "3.12.9"
  }
 },
 "nbformat": 4,
 "nbformat_minor": 5
}
