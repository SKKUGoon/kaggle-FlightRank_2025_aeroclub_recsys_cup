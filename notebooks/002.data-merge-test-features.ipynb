{
 "cells": [
  {
   "cell_type": "code",
   "execution_count": 1,
   "id": "51222fe2",
   "metadata": {},
   "outputs": [
    {
     "data": {
      "text/plain": [
       "True"
      ]
     },
     "execution_count": 1,
     "metadata": {},
     "output_type": "execute_result"
    }
   ],
   "source": [
    "import sys\n",
    "import os\n",
    "from dotenv import load_dotenv\n",
    "\n",
    "root_dir = os.path.abspath(\"..\")\n",
    "sys.path.append(root_dir)\n",
    "dotenv_path = os.path.join(root_dir, \".env\")\n",
    "load_dotenv(dotenv_path)"
   ]
  },
  {
   "cell_type": "code",
   "execution_count": 2,
   "id": "3dbb0574",
   "metadata": {},
   "outputs": [],
   "source": [
    "import polars as pl"
   ]
  },
  {
   "cell_type": "code",
   "execution_count": 3,
   "id": "46fa4d0b",
   "metadata": {},
   "outputs": [],
   "source": [
    "FILE_EMBEDDING = os.path.join(root_dir, \"data\", \"embed_flight_feature_test.parquet\")\n",
    "FILE_FLIGHT = os.path.join(root_dir, \"data\", \"processed_flight_features_test.parquet\")\n",
    "FILE_PRICE = os.path.join(root_dir, \"data\", \"processed_pricing_features_test.parquet\")\n",
    "FILE_USER = os.path.join(root_dir, \"data\", \"processed_user_features_test.parquet\")\n",
    "FILE_ADDITIONAL = os.path.join(root_dir, \"data\", \"processed_additional_features_test.parquet\")"
   ]
  },
  {
   "cell_type": "markdown",
   "id": "2e81cc2c",
   "metadata": {},
   "source": [
    "### Features"
   ]
  },
  {
   "cell_type": "code",
   "execution_count": 4,
   "id": "0b5ec5b1",
   "metadata": {},
   "outputs": [
    {
     "name": "stdout",
     "output_type": "stream",
     "text": [
      "[INFO] Reading parquet files...\n",
      "[INFO] Shapes:\n",
      "embed : (6897776, 385)\n",
      "flight: (6897776, 11)\n",
      "price : (6897776, 10)\n",
      "user  : (6897776, 10)\n",
      "add   : (6897776, 8)\n"
     ]
    }
   ],
   "source": [
    "print(\"[INFO] Reading parquet files...\")\n",
    "df_embed  = pl.read_parquet(FILE_EMBEDDING)\n",
    "df_flight = pl.read_parquet(FILE_FLIGHT)\n",
    "df_price  = pl.read_parquet(FILE_PRICE)\n",
    "df_user   = pl.read_parquet(FILE_USER)\n",
    "df_add    = pl.read_parquet(FILE_ADDITIONAL)\n",
    "\n",
    "print(\"[INFO] Shapes:\")\n",
    "print(\"embed :\", df_embed.shape)\n",
    "print(\"flight:\", df_flight.shape)\n",
    "print(\"price :\", df_price.shape)\n",
    "print(\"user  :\", df_user.shape)\n",
    "print(\"add   :\", df_add.shape)"
   ]
  },
  {
   "cell_type": "code",
   "execution_count": 5,
   "id": "f9101e79",
   "metadata": {},
   "outputs": [
    {
     "name": "stdout",
     "output_type": "stream",
     "text": [
      "[INFO] Dropped column `flight_text` from flight features -as it has been embedded\n"
     ]
    }
   ],
   "source": [
    "if \"flight_text\" in df_flight.columns:\n",
    "    df_flight = df_flight.drop(\"flight_text\")\n",
    "    print(\"[INFO] Dropped column `flight_text` from flight features -as it has been embedded\")"
   ]
  },
  {
   "cell_type": "code",
   "execution_count": 6,
   "id": "6224e929",
   "metadata": {},
   "outputs": [],
   "source": [
    "assert \"row_id\" in df_embed.columns\n",
    "assert \"row_id\" in df_flight.columns\n",
    "assert \"row_id\" in df_price.columns\n",
    "assert \"row_id\" in df_user.columns\n",
    "assert \"row_id\" in df_add.columns"
   ]
  },
  {
   "cell_type": "code",
   "execution_count": 7,
   "id": "e8369af8",
   "metadata": {},
   "outputs": [],
   "source": [
    "merged_df = (\n",
    "    df_embed\n",
    "    .join(df_flight, on=\"row_id\")\n",
    "    .join(df_price, on=\"row_id\")\n",
    "    .join(df_user, on=\"row_id\")\n",
    "    .join(df_add, on=\"row_id\")\n",
    ")"
   ]
  },
  {
   "cell_type": "code",
   "execution_count": 8,
   "id": "ef3d4025",
   "metadata": {},
   "outputs": [],
   "source": [
    "merged_df.write_parquet(os.path.join(root_dir, \"data\", \"processed_test_features.parquet\"))"
   ]
  }
 ],
 "metadata": {
  "kernelspec": {
   "display_name": ".venv",
   "language": "python",
   "name": "python3"
  },
  "language_info": {
   "codemirror_mode": {
    "name": "ipython",
    "version": 3
   },
   "file_extension": ".py",
   "mimetype": "text/x-python",
   "name": "python",
   "nbconvert_exporter": "python",
   "pygments_lexer": "ipython3",
   "version": "3.12.9"
  }
 },
 "nbformat": 4,
 "nbformat_minor": 5
}
