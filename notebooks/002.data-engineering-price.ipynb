{
 "cells": [
  {
   "cell_type": "code",
   "execution_count": 1,
   "id": "a137379f",
   "metadata": {},
   "outputs": [
    {
     "data": {
      "text/plain": [
       "False"
      ]
     },
     "execution_count": 1,
     "metadata": {},
     "output_type": "execute_result"
    }
   ],
   "source": [
    "import sys\n",
    "import os\n",
    "from dotenv import load_dotenv\n",
    "\n",
    "root_dir = os.path.abspath(\"..\")\n",
    "sys.path.append(root_dir)\n",
    "dotenv_path = os.path.join(root_dir, \".env\")\n",
    "load_dotenv(dotenv_path)"
   ]
  },
  {
   "cell_type": "code",
   "execution_count": 2,
   "id": "435f8536",
   "metadata": {},
   "outputs": [],
   "source": [
    "import polars as pl"
   ]
  },
  {
   "cell_type": "code",
   "execution_count": 3,
   "id": "44eb899d",
   "metadata": {},
   "outputs": [],
   "source": [
    "train_file = os.path.join(root_dir, \"kaggle\", \"train.parquet\")\n",
    "test_file = os.path.join(root_dir, \"kaggle\", \"test.parquet\")"
   ]
  },
  {
   "cell_type": "code",
   "execution_count": 10,
   "id": "79f25589",
   "metadata": {},
   "outputs": [],
   "source": [
    "def engineer_pricing_features(row: dict) -> dict:\n",
    "    # Raw values\n",
    "    total_price = row.get(\"totalPrice\")\n",
    "    taxes = row.get(\"taxes\")\n",
    "    # Guard against None/NaN\n",
    "    total_price = float(total_price) if total_price == total_price else 0.0\n",
    "    taxes = float(taxes) if taxes == taxes else 0.0\n",
    "\n",
    "    # Derived ratio\n",
    "    tax_ratio = (taxes / total_price) if total_price > 0 else 0.0\n",
    "\n",
    "    # Mini rules penalties and percentages\n",
    "    m0_penalty = row.get(\"miniRules0_monetaryAmount\")\n",
    "    m0_pct = row.get(\"miniRules0_percentage\")\n",
    "    m1_penalty = row.get(\"miniRules1_monetaryAmount\")\n",
    "    m1_pct = row.get(\"miniRules1_percentage\")\n",
    "    \n",
    "    m0_penalty = float(m0_penalty) if m0_penalty is not None and m0_penalty == m0_penalty else 0.0\n",
    "    m0_pct = float(m0_pct) if m0_pct is not None and m0_pct == m0_pct else 0.0\n",
    "    m1_penalty = float(m1_penalty) if m1_penalty is not None and m1_penalty == m1_penalty else 0.0\n",
    "    m1_pct = float(m1_pct) if m1_pct is not None and m1_pct == m1_pct else 0.0\n",
    "\n",
    "    # AccessTP (boolean)\n",
    "    is_access_tp = 1 if row.get(\"pricingInfo_isAccessTP\") else 0\n",
    "\n",
    "    # Passenger count\n",
    "    passenger_count = row.get(\"pricingInfo_passengerCount\")\n",
    "    passenger_count = int(passenger_count) if passenger_count == passenger_count else 0\n",
    "\n",
    "    return {\n",
    "        \"total_price\": total_price,\n",
    "        \"taxes\": taxes,\n",
    "        \"tax_ratio\": tax_ratio,\n",
    "        \"mini_rule0_penalty\": m0_penalty,\n",
    "        \"mini_rule0_pct\": m0_pct,\n",
    "        \"mini_rule1_penalty\": m1_penalty,\n",
    "        \"mini_rule1_pct\": m1_pct,\n",
    "        \"is_access_tp\": is_access_tp,\n",
    "        \"passenger_count\": passenger_count\n",
    "    }"
   ]
  },
  {
   "cell_type": "code",
   "execution_count": 11,
   "id": "39d12819",
   "metadata": {},
   "outputs": [],
   "source": [
    "def process_pricing_parquet(parquet_path: str, chunk_size: int = 200_000, output_path: str = None):\n",
    "    needed_cols = [\n",
    "        \"miniRules0_monetaryAmount\", \"miniRules0_percentage\",\n",
    "        \"miniRules0_statusInfos\", \"miniRules1_monetaryAmount\",\n",
    "        \"miniRules1_percentage\", \"miniRules1_statusInfos\",\n",
    "        \"pricingInfo_isAccessTP\", \"pricingInfo_passengerCount\",\n",
    "        \"taxes\", \"totalPrice\"\n",
    "    ]\n",
    "\n",
    "    scan = (\n",
    "        pl.scan_parquet(parquet_path)\n",
    "        .select(needed_cols)\n",
    "        .with_row_index(name=\"row_id\")\n",
    "    )\n",
    "\n",
    "    row_count = scan.select(pl.len()).collect(engine=\"streaming\")[0, 0]\n",
    "    all_chunks = []\n",
    "\n",
    "    for start in range(0, row_count, chunk_size):\n",
    "        batch_df = scan.slice(start, chunk_size).collect(engine=\"streaming\")\n",
    "        feats = [engineer_pricing_features(row) for row in batch_df.iter_rows(named=True)]\n",
    "        feats_df = pl.DataFrame(feats).with_columns(pl.Series(\"row_id\", batch_df[\"row_id\"]))\n",
    "\n",
    "        if output_path:\n",
    "            feats_df.write_parquet(f\"{output_path}_pricing_part_{start // chunk_size}.parquet\")\n",
    "        else:\n",
    "            all_chunks.append(feats_df)\n",
    "\n",
    "    if not output_path:\n",
    "        return pl.concat(all_chunks)"
   ]
  },
  {
   "cell_type": "code",
   "execution_count": 12,
   "id": "9197610d",
   "metadata": {},
   "outputs": [],
   "source": [
    "pricing_train = process_pricing_parquet(\n",
    "    parquet_path=train_file,\n",
    "    chunk_size=100_000\n",
    ")\n",
    "pricing_test = process_pricing_parquet(\n",
    "    parquet_path=test_file,\n",
    "    chunk_size=100_000\n",
    ")"
   ]
  },
  {
   "cell_type": "code",
   "execution_count": 13,
   "id": "b9c61dcc",
   "metadata": {},
   "outputs": [],
   "source": [
    "pricing_train.write_parquet(os.path.join(root_dir, \"data\", \"processed_pricing_features_train.parquet\"))\n",
    "pricing_test.write_parquet(os.path.join(root_dir, \"data\", \"processed_pricing_features_test.parquet\"))"
   ]
  }
 ],
 "metadata": {
  "kernelspec": {
   "display_name": ".venv",
   "language": "python",
   "name": "python3"
  },
  "language_info": {
   "codemirror_mode": {
    "name": "ipython",
    "version": 3
   },
   "file_extension": ".py",
   "mimetype": "text/x-python",
   "name": "python",
   "nbconvert_exporter": "python",
   "pygments_lexer": "ipython3",
   "version": "3.12.9"
  }
 },
 "nbformat": 4,
 "nbformat_minor": 5
}
