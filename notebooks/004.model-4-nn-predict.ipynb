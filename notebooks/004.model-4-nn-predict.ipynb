{
 "cells": [
  {
   "cell_type": "code",
   "execution_count": 1,
   "id": "8a7675bf",
   "metadata": {},
   "outputs": [
    {
     "data": {
      "text/plain": [
       "True"
      ]
     },
     "execution_count": 1,
     "metadata": {},
     "output_type": "execute_result"
    }
   ],
   "source": [
    "import sys\n",
    "import os\n",
    "from dotenv import load_dotenv\n",
    "\n",
    "root_dir = os.path.abspath(\"..\")\n",
    "sys.path.append(root_dir)\n",
    "dotenv_path = os.path.join(root_dir, \".env\")\n",
    "load_dotenv(dotenv_path)"
   ]
  },
  {
   "cell_type": "code",
   "execution_count": null,
   "id": "69dd5b7f",
   "metadata": {},
   "outputs": [],
   "source": [
    "from src.data_insert import ParquetRankDataset\n",
    "from src.model import RankerNN\n",
    "\n",
    "from torch.utils.data import DataLoader\n",
    "import torch\n",
    "from datetime import datetime"
   ]
  },
  {
   "cell_type": "code",
   "execution_count": null,
   "id": "ce083a65",
   "metadata": {},
   "outputs": [],
   "source": [
    "NORMALIZATION = os.path.join(root_dir, \"data\", \"train\", \"train_split_0.parquet\")\n",
    "test_file_paths = [os.path.join(root_dir, \"data\", \"test\", \"test.parquet\")]"
   ]
  },
  {
   "cell_type": "code",
   "execution_count": null,
   "id": "83c20384",
   "metadata": {},
   "outputs": [],
   "source": [
    "EXCLUDED_COLS = ['row_id', 'ranker_id', 'selected']\n",
    "\n",
    "LABEL_COL = 'dummy_selected'\n",
    "GROUP_COL = 'ranker_id'\n",
    "\n",
    "test_dataset_stream = ParquetRankDataset(\n",
    "    parquet_paths=test_file_paths,\n",
    "    exclude_feature_cols=EXCLUDED_COLS,\n",
    "    label_col=LABEL_COL,\n",
    "    group_col=GROUP_COL,\n",
    "    max_rows=4096,\n",
    "    normalization_parquet=NORMALIZATION\n",
    ")\n",
    "\n",
    "test_loader = DataLoader(test_dataset_stream, batch_size=None, shuffle=False)"
   ]
  },
  {
   "cell_type": "code",
   "execution_count": null,
   "id": "021b89cd",
   "metadata": {},
   "outputs": [],
   "source": [
    "HIDDEN_LAYERS = [512, 512, 256, 128]\n",
    "HIDDEN_LAYERS_STR = \"_\".join(map(str, HIDDEN_LAYERS))\n",
    "\n",
    "LEARNING_RATE = 1e-3\n",
    "WEIGHT_DECAY = 1e-4\n",
    "DROP_RATE = 0.2\n",
    "\n",
    "VAL_INTERVAL = 500\n",
    "PATIENCE = 3\n",
    "BEST_VAL_LOSS = float(\"inf\")\n",
    "NO_IMPROVE_COUNT = 0\n",
    "\n",
    "NUM_EPOCHS = 3\n",
    "\n",
    "MODEL_NAME = f\"best_model_4_{HIDDEN_LAYERS_STR}.pt\"  # First of 10 models\n",
    "MODEL_OUTPUT = os.path.join(root_dir, \"models\", MODEL_NAME)"
   ]
  },
  {
   "cell_type": "code",
   "execution_count": null,
   "id": "64084bfd",
   "metadata": {},
   "outputs": [],
   "source": [
    "model = RankerNN(\n",
    "    n_features=test_dataset_stream.feature_len, \n",
    "    hidden_layers=HIDDEN_LAYERS, \n",
    "    dropout=DROP_RATE\n",
    ")\n",
    "\n",
    "if torch.backends.mps.is_available():\n",
    "    device = torch.device(\"mps\")  # Apple Silicon GPU via Metal\n",
    "else:\n",
    "    device = torch.device(\"cuda\" if torch.cuda.is_available() else \"cpu\")\n",
    "\n",
    "# Load the best model so far\n",
    "print(\"[INFO] Loading model from\", MODEL_OUTPUT)\n",
    "state_dict = torch.load(MODEL_OUTPUT, map_location=device)\n",
    "model.load_state_dict(state_dict)\n",
    "model.to(device)\n",
    "model.eval()"
   ]
  },
  {
   "cell_type": "code",
   "execution_count": null,
   "id": "144276e0",
   "metadata": {},
   "outputs": [],
   "source": [
    "# Inference\n",
    "all_scores = []\n",
    "all_groups = []\n",
    "\n",
    "with torch.no_grad():\n",
    "    for X, _, G in test_loader:  # labels are dummy\n",
    "        X = X.to(device)\n",
    "        scores = model(X)  # (batch_size, 1)\n",
    "        all_scores.append(scores.cpu())\n",
    "        all_groups.append(G)\n",
    "\n",
    "all_scores = torch.cat(all_scores).squeeze()\n",
    "all_groups = torch.cat(all_groups)\n",
    "\n",
    "print(\"[INFO] Inference complete:\", all_scores.shape, all_groups.shape)"
   ]
  },
  {
   "cell_type": "code",
   "execution_count": null,
   "id": "b123d988",
   "metadata": {},
   "outputs": [],
   "source": [
    "import polars as pl\n",
    "\n",
    "# POST-PROCESS TO SUBMISSION\n",
    "df_pred = (\n",
    "    pl.DataFrame({\n",
    "        \"score\": all_scores.numpy()\n",
    "    })\n",
    "    .with_row_index(\"id\")\n",
    ")\n",
    "\n",
    "# Replace `ranker_id` with original column\n",
    "original_ranker_id = (\n",
    "    pl.read_parquet(test_file_paths[0])\n",
    "    .select([\"ranker_id\"])\n",
    "    .with_row_index(\"id\")\n",
    ")\n",
    "\n",
    "# Replace `Id` with the original columns\n",
    "original = pl.read_parquet(os.path.join(root_dir, \"kaggle\", \"test.parquet\"))\n",
    "original = original.select(\"Id\").with_row_index(\"id\")\n",
    "\n",
    "df_pred = (\n",
    "    df_pred\n",
    "    .join(original_ranker_id, on=\"id\")\n",
    "    .join(original, on=\"id\")\n",
    ")"
   ]
  },
  {
   "cell_type": "code",
   "execution_count": null,
   "id": "4e170ca8",
   "metadata": {},
   "outputs": [],
   "source": [
    "final_result = df_pred.with_columns(\n",
    "    pl.col(\"score\")\n",
    "    .rank(method='ordinal', descending=True)\n",
    "    .over(\"ranker_id\")\n",
    "    .alias(\"selected\")\n",
    ").select([\"Id\", \"ranker_id\", \"selected\"])\n",
    "\n",
    "final_result = final_result.with_columns(\n",
    "    pl.col(\"Id\").cast(pl.Int64),\n",
    "    pl.col(\"selected\").cast(pl.Int64)\n",
    ")\n"
   ]
  },
  {
   "cell_type": "code",
   "execution_count": null,
   "id": "c8352399",
   "metadata": {},
   "outputs": [],
   "source": [
    "(\n",
    "    final_result\n",
    "    .write_csv(os.path.join(root_dir, \"submission\", f\"submission_{datetime.now().strftime('%Y%m%d_%H%M%S')}.csv\"))\n",
    ")"
   ]
  },
  {
   "cell_type": "code",
   "execution_count": null,
   "id": "96ba166f",
   "metadata": {},
   "outputs": [],
   "source": [
    "check = (\n",
    "    final_result\n",
    "    .group_by(\"ranker_id\")\n",
    "    .agg([\n",
    "        pl.len().alias(\"total_rows\"),\n",
    "        pl.col(\"selected\").n_unique().alias(\"unique_ranks\")\n",
    "    ])\n",
    "    .filter(pl.col(\"total_rows\") != pl.col(\"unique_ranks\"))\n",
    ")\n",
    "\n",
    "if check.height == 0:\n",
    "    print(\"✅ No duplicate ranks per ranker_id\")\n",
    "else:\n",
    "    print(\"❌ Duplicate ranks found!\")\n",
    "    print(check)"
   ]
  },
  {
   "cell_type": "code",
   "execution_count": null,
   "id": "1709fd92",
   "metadata": {},
   "outputs": [],
   "source": []
  }
 ],
 "metadata": {
  "kernelspec": {
   "display_name": ".venv",
   "language": "python",
   "name": "python3"
  },
  "language_info": {
   "codemirror_mode": {
    "name": "ipython",
    "version": 3
   },
   "file_extension": ".py",
   "mimetype": "text/x-python",
   "name": "python",
   "nbconvert_exporter": "python",
   "pygments_lexer": "ipython3",
   "version": "3.12.9"
  }
 },
 "nbformat": 4,
 "nbformat_minor": 5
}
