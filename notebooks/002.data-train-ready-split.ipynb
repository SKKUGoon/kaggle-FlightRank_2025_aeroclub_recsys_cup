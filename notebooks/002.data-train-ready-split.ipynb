{
 "cells": [
  {
   "cell_type": "code",
   "execution_count": 1,
   "id": "67f6f068",
   "metadata": {},
   "outputs": [
    {
     "data": {
      "text/plain": [
       "True"
      ]
     },
     "execution_count": 1,
     "metadata": {},
     "output_type": "execute_result"
    }
   ],
   "source": [
    "import sys\n",
    "import os\n",
    "from dotenv import load_dotenv\n",
    "\n",
    "root_dir = os.path.abspath(\"..\")\n",
    "sys.path.append(root_dir)\n",
    "dotenv_path = os.path.join(root_dir, \".env\")\n",
    "load_dotenv(dotenv_path)"
   ]
  },
  {
   "cell_type": "code",
   "execution_count": 2,
   "id": "2e79d90e",
   "metadata": {},
   "outputs": [],
   "source": [
    "import polars as pl\n",
    "import numpy as np"
   ]
  },
  {
   "cell_type": "markdown",
   "id": "b27b9742",
   "metadata": {},
   "source": [
    "### Final prep\n",
    "\n",
    "* Join features and target\n",
    "* Split them into 10 equal sized splits\n",
    "  * Use 8 to train\n",
    "  * Use 2 to validate\n"
   ]
  },
  {
   "cell_type": "code",
   "execution_count": 3,
   "id": "ccba8380",
   "metadata": {},
   "outputs": [],
   "source": [
    "SESSION_ID = os.path.join(root_dir, \"kaggle\", \"train.parquet\")\n",
    "\n",
    "TRAIN_FEATURES = os.path.join(root_dir, \"data\", \"processed_train_features.parquet\")\n",
    "TRAIN_TARGETS = os.path.join(root_dir, \"data\", \"processed_train_targets.parquet\")\n",
    "\n",
    "TARGET_COL = \"selected\""
   ]
  },
  {
   "cell_type": "code",
   "execution_count": null,
   "id": "2ccb6661",
   "metadata": {},
   "outputs": [],
   "source": [
    "session_id = pl.read_parquet(SESSION_ID).select([\"ranker_id\"]).with_row_index(\"row_id\")\n",
    "feat = pl.read_parquet(TRAIN_FEATURES)\n",
    "targ = pl.read_parquet(TRAIN_TARGETS).with_row_index(\"row_id\")"
   ]
  },
  {
   "cell_type": "code",
   "execution_count": 8,
   "id": "55d84dca",
   "metadata": {},
   "outputs": [
    {
     "name": "stdout",
     "output_type": "stream",
     "text": [
      "[INFO] Total ranker ids: 105539\n"
     ]
    }
   ],
   "source": [
    "ranker_ids = session_id.select('ranker_id').unique().to_series().to_list()\n",
    "total_ranker_ids = len(ranker_ids)\n",
    "print(\"[INFO] Total ranker ids:\", total_ranker_ids)"
   ]
  },
  {
   "cell_type": "code",
   "execution_count": 11,
   "id": "017013e2",
   "metadata": {},
   "outputs": [
    {
     "name": "stdout",
     "output_type": "stream",
     "text": [
      "[INFO] Each split sizes:\n",
      "  Split 0: 10554 ranker_ids\n",
      "  Split 1: 10554 ranker_ids\n",
      "  Split 2: 10554 ranker_ids\n",
      "  Split 3: 10554 ranker_ids\n",
      "  Split 4: 10554 ranker_ids\n",
      "  Split 5: 10554 ranker_ids\n",
      "  Split 6: 10554 ranker_ids\n",
      "  Split 7: 10554 ranker_ids\n",
      "  Split 8: 10554 ranker_ids\n",
      "  Split 9: 10553 ranker_ids\n"
     ]
    }
   ],
   "source": [
    "np.random.seed(42)\n",
    "np.random.shuffle(ranker_ids)\n",
    "\n",
    "splits = np.array_split(ranker_ids, 10)\n",
    "print(\"[INFO] Each split sizes:\")\n",
    "for i, s in enumerate(splits):\n",
    "    print(f\"  Split {i}: {len(s)} ranker_ids\")"
   ]
  },
  {
   "cell_type": "code",
   "execution_count": 15,
   "id": "dd5b76d0",
   "metadata": {},
   "outputs": [
    {
     "name": "stdout",
     "output_type": "stream",
     "text": [
      "[INFO] Split 0\n",
      "[INFO] Split 1\n",
      "[INFO] Split 2\n",
      "[INFO] Split 3\n",
      "[INFO] Split 4\n",
      "[INFO] Split 5\n",
      "[INFO] Split 6\n",
      "[INFO] Split 7\n",
      "[INFO] Split 8\n",
      "[INFO] Split 9\n"
     ]
    }
   ],
   "source": [
    "feat_with_target = feat.join(targ, on='row_id', how='inner')\n",
    "split_dfs = []\n",
    "for i, id_chunk in enumerate(splits):\n",
    "    id_set = set(id_chunk)\n",
    "    flitered = feat_with_target.join(\n",
    "        session_id.filter(pl.col(\"ranker_id\").is_in(id_set)),\n",
    "        on='row_id',\n",
    "        how='inner'\n",
    "    )\n",
    "    split_dfs.append(flitered)\n",
    "    print(f\"[INFO] Split {i}\")"
   ]
  },
  {
   "cell_type": "code",
   "execution_count": 16,
   "id": "45a22e83",
   "metadata": {},
   "outputs": [],
   "source": [
    "for i, df in enumerate(split_dfs):\n",
    "    df.write_parquet(os.path.join(root_dir, \"data\", \"train\", f\"train_split_{i}.parquet\"))"
   ]
  }
 ],
 "metadata": {
  "kernelspec": {
   "display_name": ".venv",
   "language": "python",
   "name": "python3"
  },
  "language_info": {
   "codemirror_mode": {
    "name": "ipython",
    "version": 3
   },
   "file_extension": ".py",
   "mimetype": "text/x-python",
   "name": "python",
   "nbconvert_exporter": "python",
   "pygments_lexer": "ipython3",
   "version": "3.12.9"
  }
 },
 "nbformat": 4,
 "nbformat_minor": 5
}
