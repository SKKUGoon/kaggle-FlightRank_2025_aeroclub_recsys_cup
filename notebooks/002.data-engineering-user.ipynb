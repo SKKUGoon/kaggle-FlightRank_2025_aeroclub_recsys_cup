{
 "cells": [
  {
   "cell_type": "code",
   "execution_count": 1,
   "id": "dfe6eaa4",
   "metadata": {},
   "outputs": [
    {
     "data": {
      "text/plain": [
       "False"
      ]
     },
     "execution_count": 1,
     "metadata": {},
     "output_type": "execute_result"
    }
   ],
   "source": [
    "import sys\n",
    "import os\n",
    "from dotenv import load_dotenv\n",
    "\n",
    "root_dir = os.path.abspath(\"..\")\n",
    "sys.path.append(root_dir)\n",
    "dotenv_path = os.path.join(root_dir, \".env\")\n",
    "load_dotenv(dotenv_path)"
   ]
  },
  {
   "cell_type": "code",
   "execution_count": null,
   "id": "1fb88b01",
   "metadata": {},
   "outputs": [],
   "source": [
    "import polars as pl"
   ]
  },
  {
   "cell_type": "code",
   "execution_count": 3,
   "id": "51a886ae",
   "metadata": {},
   "outputs": [],
   "source": [
    "train_file = os.path.join(root_dir, \"kaggle\", \"train.parquet\")\n",
    "test_file = os.path.join(root_dir, \"kaggle\", \"test.parquet\")"
   ]
  },
  {
   "cell_type": "code",
   "execution_count": 4,
   "id": "20afaaee",
   "metadata": {},
   "outputs": [],
   "source": [
    "def engineer_user_features(row: dict) -> dict:\n",
    "    # Simple booleans\n",
    "    is_self_booking = 1 if row.get(\"bySelf\") else 0\n",
    "    is_vip = 1 if row.get(\"isVip\") else 0\n",
    "    is_access_3d = 1 if row.get(\"isAccess3D\") else 0\n",
    "\n",
    "    # Corporate info\n",
    "    has_corporate_tariff = 1 if row.get(\"corporateTariffCode\") not in (None, \"\", float(\"nan\")) else 0\n",
    "\n",
    "    # Frequent flyer programs\n",
    "    ff_raw = row.get(\"frequentFlyer\")\n",
    "    ff_set = set(ff_raw.split(\"/\")) if ff_raw and ff_raw == ff_raw else set()\n",
    "    frequent_flyer_count = len(ff_set)\n",
    "\n",
    "    # --- Frequent flyer match with flight carriers ---\n",
    "    flags = []\n",
    "    for leg in range(2):\n",
    "        for seg in range(4):\n",
    "            mkt_col = f\"legs{leg}_segments{seg}_marketingCarrier_code\"\n",
    "            op_col = f\"legs{leg}_segments{seg}_operatingCarrier_code\"\n",
    "            mkt_val = row.get(mkt_col)\n",
    "            op_val = row.get(op_col)\n",
    "            if (mkt_val and mkt_val in ff_set) or (op_val and op_val in ff_set):\n",
    "                flags.append(True)\n",
    "            else:\n",
    "                flags.append(False)\n",
    "    any_segment_in_ff = 1 if any(flags) else 0\n",
    "    count_segments_in_ff = sum(flags)\n",
    "\n",
    "    # Nationality\n",
    "    nat_code = row.get(\"nationality\")\n",
    "    nat_code = int(nat_code) if nat_code == nat_code else -1\n",
    "\n",
    "    # Sex\n",
    "    sex_val = row.get(\"sex\")\n",
    "    is_male = 1 if sex_val is True else (0 if sex_val is False else -1)\n",
    "\n",
    "    return {\n",
    "        \"is_self_booking\": is_self_booking,\n",
    "        \"is_vip\": is_vip,\n",
    "        \"is_access_3d\": is_access_3d,\n",
    "        \"has_corporate_tariff\": has_corporate_tariff,\n",
    "        \"frequent_flyer_count\": frequent_flyer_count,\n",
    "        \"any_segment_in_ff\": any_segment_in_ff,\n",
    "        \"count_segments_in_ff\": count_segments_in_ff,\n",
    "        \"nationality_code\": nat_code,\n",
    "        \"is_male\": is_male\n",
    "    }\n",
    "\n"
   ]
  },
  {
   "cell_type": "code",
   "execution_count": 5,
   "id": "e4dcf5f4",
   "metadata": {},
   "outputs": [],
   "source": [
    "def process_user_parquet(parquet_path: str, chunk_size: int = 200_000, output_path: str = None):\n",
    "    # Add flight columns needed for frequent flyer match\n",
    "    flight_cols = [\n",
    "        f\"legs{leg}_segments{seg}_{col}\"\n",
    "        for leg in range(2)\n",
    "        for seg in range(4)\n",
    "        for col in [\"marketingCarrier_code\", \"operatingCarrier_code\"]\n",
    "    ]\n",
    "    needed_cols = [\n",
    "        \"bySelf\", \"isVip\", \"isAccess3D\",\n",
    "        \"companyID\", \"corporateTariffCode\",\n",
    "        \"frequentFlyer\", \"nationality\", \"sex\"\n",
    "    ] + flight_cols\n",
    "\n",
    "    scan = (\n",
    "        pl.scan_parquet(parquet_path)\n",
    "        .select(needed_cols)\n",
    "        .with_row_index(name=\"row_id\")\n",
    "    )\n",
    "\n",
    "    row_count = scan.select(pl.len()).collect(engine=\"streaming\")[0, 0]\n",
    "    all_chunks = []\n",
    "\n",
    "    for start in range(0, row_count, chunk_size):\n",
    "        batch_df = scan.slice(start, chunk_size).collect(engine=\"streaming\")\n",
    "        feats = [engineer_user_features(row) for row in batch_df.iter_rows(named=True)]\n",
    "        feats_df = pl.DataFrame(feats).with_columns(pl.Series(\"row_id\", batch_df[\"row_id\"]))\n",
    "\n",
    "        if output_path:\n",
    "            feats_df.write_parquet(f\"{output_path}_user_part_{start // chunk_size}.parquet\")\n",
    "        else:\n",
    "            all_chunks.append(feats_df)\n",
    "\n",
    "    if not output_path:\n",
    "        return pl.concat(all_chunks)"
   ]
  },
  {
   "cell_type": "code",
   "execution_count": 6,
   "id": "83ee7937",
   "metadata": {},
   "outputs": [],
   "source": [
    "user_train = process_user_parquet(\n",
    "    parquet_path=train_file,\n",
    "    chunk_size=100_000\n",
    ")\n",
    "user_test = process_user_parquet(\n",
    "    parquet_path=test_file,\n",
    "    chunk_size=100_000\n",
    ")"
   ]
  },
  {
   "cell_type": "code",
   "execution_count": 7,
   "id": "23b1de8a",
   "metadata": {},
   "outputs": [],
   "source": [
    "user_train.write_parquet(os.path.join(root_dir, \"data\", \"processed_user_features_train.parquet\"))\n",
    "user_test.write_parquet(os.path.join(root_dir, \"data\", \"processed_user_features_test.parquet\"))"
   ]
  }
 ],
 "metadata": {
  "kernelspec": {
   "display_name": ".venv",
   "language": "python",
   "name": "python3"
  },
  "language_info": {
   "codemirror_mode": {
    "name": "ipython",
    "version": 3
   },
   "file_extension": ".py",
   "mimetype": "text/x-python",
   "name": "python",
   "nbconvert_exporter": "python",
   "pygments_lexer": "ipython3",
   "version": "3.12.9"
  }
 },
 "nbformat": 4,
 "nbformat_minor": 5
}
