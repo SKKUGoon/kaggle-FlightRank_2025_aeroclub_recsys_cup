{
 "cells": [
  {
   "cell_type": "code",
   "execution_count": 7,
   "id": "3d1b4583",
   "metadata": {},
   "outputs": [
    {
     "data": {
      "text/plain": [
       "False"
      ]
     },
     "execution_count": 7,
     "metadata": {},
     "output_type": "execute_result"
    }
   ],
   "source": [
    "import sys\n",
    "import os\n",
    "from typing import Tuple\n",
    "from dotenv import load_dotenv\n",
    "\n",
    "root_dir = os.path.abspath(\"..\")\n",
    "sys.path.append(root_dir)\n",
    "dotenv_path = os.path.join(root_dir, \".env\")\n",
    "load_dotenv(dotenv_path)"
   ]
  },
  {
   "cell_type": "code",
   "execution_count": 40,
   "id": "6224685c",
   "metadata": {},
   "outputs": [
    {
     "name": "stderr",
     "output_type": "stream",
     "text": [
      "/var/folders/0f/33736c396pgfbzvkb9bc8lnw0000gn/T/ipykernel_40309/629051912.py:16: FutureWarning: Downcasting object dtype arrays on .fillna, .ffill, .bfill is deprecated and will change in a future version. Call result.infer_objects(copy=False) instead. To opt-in to the future behavior, set `pd.set_option('future.no_silent_downcasting', True)`\n",
      "  airlines_lccs.fillna({\"LCC\": False}, inplace=True)\n"
     ]
    }
   ],
   "source": [
    "import pandas as pd\n",
    "\n",
    "# Read Airline list\n",
    "airline_file = os.path.join(root_dir, \"kaggle\", \"support\", \"Airline List.csv\")\n",
    "lcc_file = os.path.join(root_dir, \"kaggle\", \"support\", \"LCC List.csv\")\n",
    "\n",
    "airlines = pd.read_csv(airline_file)\n",
    "airlines.dropna(subset=['IATA'], inplace=True)\n",
    "\n",
    "lccs = pd.read_csv(lcc_file)\n",
    "lccs.columns = ['Region', 'Country', 'Airline', 'ICAO', 'IATA', 'Begin', 'End']\n",
    "lccs.dropna(subset=['IATA'], inplace=True)\n",
    "lccs['LCC'] = True\n",
    "\n",
    "airlines_lccs = pd.merge(airlines, lccs[['IATA', 'LCC']], how=\"left\", on=\"IATA\")\n",
    "airlines_lccs.fillna({\"LCC\": False}, inplace=True)\n",
    "\n",
    "# airlines_lccs[\"is_LCC\"] = airlines_lccs[\"is_LCC\"].fillna(False)"
   ]
  },
  {
   "cell_type": "code",
   "execution_count": 42,
   "id": "3e5dd970",
   "metadata": {},
   "outputs": [],
   "source": [
    "airlines_lccs.to_csv(os.path.join(root_dir, \"kaggle\", \"support\", \"airlines_lccs.csv\"))"
   ]
  }
 ],
 "metadata": {
  "kernelspec": {
   "display_name": ".venv",
   "language": "python",
   "name": "python3"
  },
  "language_info": {
   "codemirror_mode": {
    "name": "ipython",
    "version": 3
   },
   "file_extension": ".py",
   "mimetype": "text/x-python",
   "name": "python",
   "nbconvert_exporter": "python",
   "pygments_lexer": "ipython3",
   "version": "3.12.9"
  }
 },
 "nbformat": 4,
 "nbformat_minor": 5
}
