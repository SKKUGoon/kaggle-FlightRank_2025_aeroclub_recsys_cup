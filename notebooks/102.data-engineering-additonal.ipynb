{
 "cells": [
  {
   "cell_type": "code",
   "execution_count": 1,
   "id": "b2ea37ff",
   "metadata": {},
   "outputs": [
    {
     "data": {
      "text/plain": [
       "True"
      ]
     },
     "execution_count": 1,
     "metadata": {},
     "output_type": "execute_result"
    }
   ],
   "source": [
    "import sys\n",
    "import os\n",
    "from dotenv import load_dotenv\n",
    "\n",
    "root_dir = os.path.abspath(\"..\")\n",
    "sys.path.append(root_dir)\n",
    "dotenv_path = os.path.join(root_dir, \".env\")\n",
    "load_dotenv(dotenv_path)"
   ]
  },
  {
   "cell_type": "code",
   "execution_count": 2,
   "id": "63cdc165",
   "metadata": {},
   "outputs": [],
   "source": [
    "import polars as pl"
   ]
  },
  {
   "cell_type": "code",
   "execution_count": 3,
   "id": "9ad009ed",
   "metadata": {},
   "outputs": [],
   "source": [
    "train_file = os.path.join(root_dir, \"kaggle\", \"train.parquet\")\n",
    "test_file = os.path.join(root_dir, \"kaggle\", \"test.parquet\")"
   ]
  },
  {
   "cell_type": "code",
   "execution_count": 4,
   "id": "4fe5d301",
   "metadata": {},
   "outputs": [],
   "source": [
    "def get_session_ranks(df: pl.DataFrame) -> pl.DataFrame:\n",
    "    segment_cols = [\n",
    "        \"legs0_segments0_marketingCarrier_code\",\n",
    "        \"legs0_segments1_marketingCarrier_code\",\n",
    "        \"legs0_segments2_marketingCarrier_code\",\n",
    "        \"legs1_segments0_marketingCarrier_code\",\n",
    "        \"legs1_segments1_marketingCarrier_code\",\n",
    "        \"legs1_segments2_marketingCarrier_code\",\n",
    "    ]\n",
    "    if not segment_cols:\n",
    "        raise ValueError(\"No *_marketingCarrier_code columns found in DataFrame!\")\n",
    "\n",
    "    ff_list_expr = (\n",
    "        pl.when(pl.col(\"frequentFlyer\").is_null())\n",
    "        .then(pl.lit([]))\n",
    "        .otherwise(pl.col(\"frequentFlyer\").str.split(\"/\"))\n",
    "        .alias(\"ff_list\")\n",
    "    )\n",
    "\n",
    "    exprs = [pl.col(\"ff_list\").list.contains(pl.col(c)) for c in segment_cols]\n",
    "    is_pref_expr = pl.any_horizontal(exprs).cast(pl.Int8).alias(\"is_preferred_airline\")\n",
    "    ranked = (\n",
    "        df\n",
    "        .with_row_index(name=\"row_id\")\n",
    "        .with_columns([ff_list_expr])\n",
    "        .with_columns([is_pref_expr])\n",
    "        .sort([\"ranker_id\", \"totalPrice\"])\n",
    "        .with_columns([\n",
    "            pl.col(\"totalPrice\").rank(method=\"dense\").over(\"ranker_id\").alias(\"price_rank\"),\n",
    "            (pl.col(\"totalPrice\") - pl.col(\"totalPrice\").min().over(\"ranker_id\"))\n",
    "            .fill_null(0.0)\n",
    "            .alias(\"price_delta\"),\n",
    "            pl.col(\"legs0_departureAt\").rank(method=\"dense\").over(\"ranker_id\").alias(\"departure_rank\")\n",
    "        ])\n",
    "        .sort([\"row_id\"])\n",
    "    )\n",
    "\n",
    "    return ranked.select([\n",
    "        \"row_id\", \"price_rank\", \"price_delta\", \"departure_rank\", \"is_preferred_airline\"\n",
    "    ])\n",
    "\n",
    "def get_lead_time(df: pl.DataFrame) -> pl.DataFrame:\n",
    "    lead = (\n",
    "        df\n",
    "        .with_row_index(name=\"row_id\")\n",
    "        .with_columns([\n",
    "            (pl.col(\"legs0_departureAt\").cast(pl.Datetime(\"us\")) - pl.col(\"requestDate\").cast(pl.Datetime(\"us\")))\n",
    "            .dt.total_days()\n",
    "            .alias(\"lead_time_days\")\n",
    "        ])\n",
    "    )\n",
    "    return lead.select([\"row_id\", \"lead_time_days\"])\n",
    "\n",
    "def get_departure_month(df: pl.DataFrame) -> pl.DataFrame:\n",
    "    month = (\n",
    "        df\n",
    "        .with_row_index(name=\"row_id\")\n",
    "        .with_columns([\n",
    "            pl.col(\"legs0_departureAt\").cast(pl.Datetime(\"us\")).dt.month().alias(\"departure_month\"),\n",
    "            (pl.col(\"legs0_departureAt\").cast(pl.Datetime(\"us\")).dt.month().is_in([7,8])).cast(pl.Int8).alias(\"is_summer_trip\")\n",
    "        ])\n",
    "    )\n",
    "    return month.select([\"row_id\", \"departure_month\", \"is_summer_trip\"])"
   ]
  },
  {
   "cell_type": "code",
   "execution_count": 5,
   "id": "7f1f7995",
   "metadata": {},
   "outputs": [],
   "source": [
    "d = pl.read_parquet(train_file)\n",
    "\n",
    "dsr = get_session_ranks(d)\n",
    "dlt = get_lead_time(d)\n",
    "ddm = get_departure_month(d)"
   ]
  },
  {
   "cell_type": "code",
   "execution_count": 6,
   "id": "c4df4159",
   "metadata": {},
   "outputs": [],
   "source": [
    "t = pl.read_parquet(test_file)\n",
    "\n",
    "tsr = get_session_ranks(t)\n",
    "tlt = get_lead_time(t)\n",
    "tdm = get_departure_month(t)"
   ]
  },
  {
   "cell_type": "code",
   "execution_count": 7,
   "id": "635e2f21",
   "metadata": {},
   "outputs": [],
   "source": [
    "merged_train = (\n",
    "    dsr\n",
    "    .join(dlt, on=\"row_id\")\n",
    "    .join(ddm, on=\"row_id\")\n",
    ")\n",
    "\n",
    "merged_test = (\n",
    "    tsr\n",
    "    .join(tlt, on=\"row_id\")\n",
    "    .join(tdm, on=\"row_id\")\n",
    ")"
   ]
  },
  {
   "cell_type": "code",
   "execution_count": 8,
   "id": "f9852122",
   "metadata": {},
   "outputs": [],
   "source": [
    "merged_train.write_parquet(os.path.join(root_dir, \"data\", \"v1\", \"processed_additional_features_train.parquet\"))\n",
    "merged_test.write_parquet(os.path.join(root_dir, \"data\", \"v1\", \"processed_additional_features_test.parquet\"))"
   ]
  },
  {
   "cell_type": "code",
   "execution_count": null,
   "id": "40af94aa",
   "metadata": {},
   "outputs": [],
   "source": []
  }
 ],
 "metadata": {
  "kernelspec": {
   "display_name": ".venv",
   "language": "python",
   "name": "python3"
  },
  "language_info": {
   "codemirror_mode": {
    "name": "ipython",
    "version": 3
   },
   "file_extension": ".py",
   "mimetype": "text/x-python",
   "name": "python",
   "nbconvert_exporter": "python",
   "pygments_lexer": "ipython3",
   "version": "3.12.9"
  }
 },
 "nbformat": 4,
 "nbformat_minor": 5
}
