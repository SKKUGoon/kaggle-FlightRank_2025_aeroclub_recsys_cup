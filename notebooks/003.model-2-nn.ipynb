{
 "cells": [
  {
   "cell_type": "code",
   "execution_count": 1,
   "id": "8d16f4b9",
   "metadata": {},
   "outputs": [
    {
     "data": {
      "text/plain": [
       "True"
      ]
     },
     "execution_count": 1,
     "metadata": {},
     "output_type": "execute_result"
    }
   ],
   "source": [
    "import sys\n",
    "import os\n",
    "from dotenv import load_dotenv\n",
    "\n",
    "root_dir = os.path.abspath(\"..\")\n",
    "sys.path.append(root_dir)\n",
    "dotenv_path = os.path.join(root_dir, \".env\")\n",
    "load_dotenv(dotenv_path)"
   ]
  },
  {
   "cell_type": "code",
   "execution_count": 2,
   "id": "bb82c227",
   "metadata": {},
   "outputs": [],
   "source": [
    "from src.data_insert import ParquetRankDataset\n",
    "from src.model import RankerNN\n",
    "from src.metric import groupwise_softmax_loss\n",
    "\n",
    "from torch.utils.data import DataLoader\n",
    "import torch\n",
    "from datetime import datetime"
   ]
  },
  {
   "cell_type": "code",
   "execution_count": 3,
   "id": "8f961ea8",
   "metadata": {},
   "outputs": [],
   "source": [
    "NORMALIZATION = os.path.join(root_dir, \"data\", \"train\", \"train_split_0.parquet\")\n",
    "\n",
    "train_file_paths = []\n",
    "valid_file_paths = []\n",
    "\n",
    "# 8개 train 조각\n",
    "for i in range(8):\n",
    "    path = os.path.join(root_dir, \"data\", \"train\", f\"train_split_{i}.parquet\")\n",
    "    train_file_paths.append(path)\n",
    "\n",
    "# 2개 valid 조각\n",
    "for i in range(8, 10):\n",
    "    path = os.path.join(root_dir, \"data\", \"train\", f\"train_split_{i}.parquet\")\n",
    "    valid_file_paths.append(path)"
   ]
  },
  {
   "cell_type": "code",
   "execution_count": 4,
   "id": "a9d3d28d",
   "metadata": {},
   "outputs": [
    {
     "name": "stderr",
     "output_type": "stream",
     "text": [
      "/Users/goonzard/Developer/data-science-09-kaggle-airplane/src/data_insert.py:29: PerformanceWarning: Determining the column names of a LazyFrame requires resolving its schema, which is a potentially expensive operation. Use `LazyFrame.collect_schema().names()` to get the column names without this warning.\n",
      "  self.feature_cols: list[str] = [c for c in first_schema.columns if c not in self.exclude_feature_cols]\n"
     ]
    },
    {
     "name": "stdout",
     "output_type": "stream",
     "text": [
      "[INFO] Normalization stats loaded from /Users/goonzard/Developer/data-science-09-kaggle-airplane/data/train/train_split_0.parquet\n",
      "[INFO] Example mean/std: [('emb_0', 0.044884927570819855), ('emb_1', -0.026697352528572083), ('emb_2', -0.10396946221590042), ('emb_3', 0.04172823578119278), ('emb_4', -0.01801719330251217)]\n",
      "[INFO] Normalization stats loaded from /Users/goonzard/Developer/data-science-09-kaggle-airplane/data/train/train_split_0.parquet\n",
      "[INFO] Example mean/std: [('emb_0', 0.044884927570819855), ('emb_1', -0.026697352528572083), ('emb_2', -0.10396946221590042), ('emb_3', 0.04172823578119278), ('emb_4', -0.01801719330251217)]\n"
     ]
    }
   ],
   "source": [
    "EXCLUDED_COLS = ['row_id', 'ranker_id', 'selected']\n",
    "\n",
    "LABEL_COL = 'selected'\n",
    "GROUP_COL = 'ranker_id'\n",
    "\n",
    "train_dataset_stream = ParquetRankDataset(\n",
    "    parquet_paths=train_file_paths,\n",
    "    exclude_feature_cols=EXCLUDED_COLS,\n",
    "    label_col=LABEL_COL,\n",
    "    group_col=GROUP_COL,\n",
    "    max_rows=4096,\n",
    "    normalization_parquet=NORMALIZATION,\n",
    ")\n",
    "\n",
    "valid_dataset_stream = ParquetRankDataset(\n",
    "    parquet_paths=valid_file_paths,\n",
    "    exclude_feature_cols=EXCLUDED_COLS,\n",
    "    label_col=LABEL_COL,\n",
    "    group_col=GROUP_COL,\n",
    "    max_rows=4096,\n",
    "    normalization_parquet=NORMALIZATION,\n",
    ")"
   ]
  },
  {
   "cell_type": "code",
   "execution_count": 5,
   "id": "0ebbb721",
   "metadata": {},
   "outputs": [],
   "source": [
    "HIDDEN_LAYERS = [512, 256, 128]\n",
    "HIDDEN_LAYERS_STR = \"_\".join(map(str, HIDDEN_LAYERS))\n",
    "\n",
    "DROP_RATE = 0.2\n",
    "LEARNING_RATE = 1e-3\n",
    "TRAIN_DATE = datetime.now().strftime(\"%Y%m%dT%H%M%S\")\n",
    "\n",
    "VAL_INTERVAL = 500\n",
    "PATIENCE = 5\n",
    "BEST_VAL_LOSS = float(\"inf\")\n",
    "NO_IMPROVE_COUNT = 0\n",
    "\n",
    "NUM_EPOCHS = 5\n",
    "\n",
    "MODEL_NAME = f\"best_model_2_{HIDDEN_LAYERS_STR}_{DROP_RATE}_{LEARNING_RATE}.pt\"\n",
    "MODEL_OUTPUT = os.path.join(root_dir, \"models\", MODEL_NAME)"
   ]
  },
  {
   "cell_type": "code",
   "execution_count": 6,
   "id": "d7dcdcac",
   "metadata": {},
   "outputs": [],
   "source": [
    "model = RankerNN(\n",
    "    n_features=train_dataset_stream.feature_len, \n",
    "    hidden_layers=HIDDEN_LAYERS, \n",
    "    dropout=DROP_RATE\n",
    ")"
   ]
  },
  {
   "cell_type": "code",
   "execution_count": 8,
   "id": "be776d97",
   "metadata": {},
   "outputs": [
    {
     "name": "stdout",
     "output_type": "stream",
     "text": [
      "\n",
      "[Epoch 1] ------------------------------------------------\n",
      "[Epoch 1 | Step 1] Loss: 2.9719 | Running Avg: 2.9719\n",
      "[Epoch 1 | Step 2] Loss: 3.5278 | Running Avg: 3.2499\n",
      "[Epoch 1 | Step 3] Loss: 2.8149 | Running Avg: 3.1049\n",
      "[Epoch 1 | Step 4] Loss: 4.1704 | Running Avg: 3.3712\n",
      "[Epoch 1 | Step 5] Loss: 2.8885 | Running Avg: 3.2747\n",
      "[Epoch 1 | Step 6] Loss: 3.7466 | Running Avg: 3.3533\n",
      "[Epoch 1 | Step 7] Loss: 3.2532 | Running Avg: 3.3390\n",
      "[Epoch 1 | Step 8] Loss: 2.8318 | Running Avg: 3.2756\n",
      "[Epoch 1 | Step 9] Loss: 2.6506 | Running Avg: 3.2062\n",
      "[Epoch 1 | Step 10] Loss: 3.1268 | Running Avg: 3.1982\n",
      "[Epoch 1 | Step 11] Loss: 3.4941 | Running Avg: 3.2251\n",
      "[Epoch 1 | Step 12] Loss: 3.1647 | Running Avg: 3.2201\n",
      "[Epoch 1 | Step 13] Loss: 3.1291 | Running Avg: 3.2131\n",
      "[Epoch 1 | Step 14] Loss: 2.9710 | Running Avg: 3.1958\n"
     ]
    },
    {
     "ename": "KeyboardInterrupt",
     "evalue": "",
     "output_type": "error",
     "traceback": [
      "\u001b[31m---------------------------------------------------------------------------\u001b[39m",
      "\u001b[31mKeyboardInterrupt\u001b[39m                         Traceback (most recent call last)",
      "\u001b[36mCell\u001b[39m\u001b[36m \u001b[39m\u001b[32mIn[8]\u001b[39m\u001b[32m, line 27\u001b[39m\n\u001b[32m     25\u001b[39m optimizer.zero_grad()\n\u001b[32m     26\u001b[39m scores = model(X)\n\u001b[32m---> \u001b[39m\u001b[32m27\u001b[39m loss = \u001b[43mgroupwise_softmax_loss\u001b[49m\u001b[43m(\u001b[49m\u001b[43mscores\u001b[49m\u001b[43m,\u001b[49m\u001b[43m \u001b[49m\u001b[43my\u001b[49m\u001b[43m,\u001b[49m\u001b[43m \u001b[49m\u001b[43mg\u001b[49m\u001b[43m)\u001b[49m\n\u001b[32m     29\u001b[39m loss.backward()\n\u001b[32m     30\u001b[39m torch.nn.utils.clip_grad_norm_(model.parameters(), max_norm=\u001b[32m1.0\u001b[39m)  \u001b[38;5;66;03m# Gradient clipping\u001b[39;00m\n",
      "\u001b[36mFile \u001b[39m\u001b[32m~/Developer/data-science-09-kaggle-airplane/src/metric.py:64\u001b[39m, in \u001b[36mgroupwise_softmax_loss\u001b[39m\u001b[34m(scores, labels, groups)\u001b[39m\n\u001b[32m     61\u001b[39m s = scores[mask]  \u001b[38;5;66;03m# [M]\u001b[39;00m\n\u001b[32m     62\u001b[39m y = labels[mask]  \u001b[38;5;66;03m# [M]\u001b[39;00m\n\u001b[32m---> \u001b[39m\u001b[32m64\u001b[39m \u001b[38;5;28;01mif\u001b[39;00m \u001b[43my\u001b[49m\u001b[43m.\u001b[49m\u001b[43msum\u001b[49m\u001b[43m(\u001b[49m\u001b[43m)\u001b[49m == \u001b[32m0\u001b[39m:\n\u001b[32m     65\u001b[39m     \u001b[38;5;66;03m# no positive in this group (should not happen in training)\u001b[39;00m\n\u001b[32m     66\u001b[39m     \u001b[38;5;28;01mcontinue\u001b[39;00m\n\u001b[32m     68\u001b[39m \u001b[38;5;66;03m# softmax over this group's scores\u001b[39;00m\n",
      "\u001b[31mKeyboardInterrupt\u001b[39m: "
     ]
    }
   ],
   "source": [
    "train_loader = DataLoader(train_dataset_stream, batch_size=None, shuffle=False)\n",
    "valid_loader = DataLoader(valid_dataset_stream, batch_size=None, shuffle=False)\n",
    "\n",
    "if torch.backends.mps.is_available():\n",
    "    device = torch.device(\"mps\")  # Apple Silicon GPU via Metal\n",
    "else:\n",
    "    device = torch.device(\"cuda\" if torch.cuda.is_available() else \"cpu\")\n",
    "    \n",
    "model.to(device)\n",
    "optimizer = torch.optim.AdamW(model.parameters(), lr=LEARNING_RATE)\n",
    "scheduler = torch.optim.lr_scheduler.CosineAnnealingLR(\n",
    "    optimizer,\n",
    "    T_max=3,  # number of epochs\n",
    ")\n",
    "\n",
    "for epoch in range(NUM_EPOCHS):\n",
    "    model.train()\n",
    "    total_train_loss = 0.0\n",
    "    step = 0\n",
    "\n",
    "    print(f\"\\n[Epoch {epoch+1}] ------------------------------------------------\")\n",
    "    for X, y, g in train_loader:\n",
    "        X, y, g = X.to(device), y.to(device), g.to(device)\n",
    "\n",
    "        optimizer.zero_grad()\n",
    "        scores = model(X)\n",
    "        loss = groupwise_softmax_loss(scores, y, g)\n",
    "\n",
    "        loss.backward()\n",
    "        torch.nn.utils.clip_grad_norm_(model.parameters(), max_norm=1.0)  # Gradient clipping\n",
    "        optimizer.step()\n",
    "        scheduler.step()\n",
    "\n",
    "        total_train_loss += loss.item()\n",
    "        step += 1\n",
    "        avg_loss = total_train_loss / step\n",
    "\n",
    "        # Return per step training loss\n",
    "        print(f\"[Epoch {epoch+1} | Step {step}] Loss: {loss.item():.4f} | Running Avg: {avg_loss:.4f}\")\n",
    "\n",
    "        if step % VAL_INTERVAL == 0:\n",
    "            model.eval()\n",
    "            total_val_loss = 0.0\n",
    "            val_steps = 0\n",
    "            print(f\"[Validate][Epoch {epoch+1} | Step {step}] --------------------------\")\n",
    "            with torch.no_grad():\n",
    "                for Xv, yv, gv in valid_loader:\n",
    "                    Xv, yv, gv = Xv.to(device), yv.to(device), gv.to(device)\n",
    "                    val_scores = model(Xv)\n",
    "                    val_loss = groupwise_softmax_loss(val_scores, yv, gv)\n",
    "\n",
    "                    print(f\"[Val] Loss: {val_loss.item():.4f}\")\n",
    "                    total_val_loss += val_loss.item()\n",
    "                    val_steps += 1\n",
    "\n",
    "            avg_val_loss = total_val_loss / val_steps if val_steps > 0 else 0.0\n",
    "            print(f\"[Validate][Epoch {epoch+1} | Step {step}] Average Val Loss: {avg_val_loss:.4f}\")\n",
    "            model.train()\n",
    "\n",
    "            if avg_val_loss < BEST_VAL_LOSS:\n",
    "                BEST_VAL_LOSS = avg_val_loss\n",
    "                NO_IMPROVE_COUNT = 0\n",
    "                torch.save(model.state_dict(), MODEL_OUTPUT)\n",
    "\n",
    "            else:\n",
    "                NO_IMPROVE_COUNT += 1\n",
    "                if NO_IMPROVE_COUNT >= PATIENCE:\n",
    "                    print(f\"[INFO] Early stopping at epoch {epoch+1}\")\n",
    "                    break\n",
    "\n",
    "    avg_epoch_loss = total_train_loss / step if step > 0 else 0.0\n",
    "    print(f\"[Epoch {epoch+1} Completed] Average Train Loss: {avg_epoch_loss:.4f}\")"
   ]
  },
  {
   "cell_type": "code",
   "execution_count": null,
   "id": "c1acd580",
   "metadata": {},
   "outputs": [],
   "source": []
  }
 ],
 "metadata": {
  "kernelspec": {
   "display_name": ".venv",
   "language": "python",
   "name": "python3"
  },
  "language_info": {
   "codemirror_mode": {
    "name": "ipython",
    "version": 3
   },
   "file_extension": ".py",
   "mimetype": "text/x-python",
   "name": "python",
   "nbconvert_exporter": "python",
   "pygments_lexer": "ipython3",
   "version": "3.12.9"
  }
 },
 "nbformat": 4,
 "nbformat_minor": 5
}
