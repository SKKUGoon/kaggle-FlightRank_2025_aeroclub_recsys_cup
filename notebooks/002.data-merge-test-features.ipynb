{
 "cells": [
  {
   "cell_type": "code",
   "execution_count": null,
   "id": "51222fe2",
   "metadata": {},
   "outputs": [],
   "source": [
    "import sys\n",
    "import os\n",
    "from dotenv import load_dotenv\n",
    "\n",
    "root_dir = os.path.abspath(\"..\")\n",
    "sys.path.append(root_dir)\n",
    "dotenv_path = os.path.join(root_dir, \".env\")\n",
    "load_dotenv(dotenv_path)"
   ]
  },
  {
   "cell_type": "code",
   "execution_count": null,
   "id": "3dbb0574",
   "metadata": {},
   "outputs": [],
   "source": [
    "import polars as pl"
   ]
  },
  {
   "cell_type": "code",
   "execution_count": null,
   "id": "46fa4d0b",
   "metadata": {},
   "outputs": [],
   "source": [
    "FILE_EMBEDDING = os.path.join(root_dir, \"data\", \"embed_flight_feature_test.parquet\")\n",
    "FILE_FLIGHT = os.path.join(root_dir, \"data\", \"processed_flight_features_test.parquet\")\n",
    "FILE_PRICE = os.path.join(root_dir, \"data\", \"processed_pricing_features_test.parquet\")\n",
    "FILE_USER = os.path.join(root_dir, \"data\", \"processed_user_features_test.parquet\")\n",
    "FILE_ADDITIONAL = os.path.join(root_dir, \"data\", \"processed_additional_features_test.parquet\")"
   ]
  },
  {
   "cell_type": "markdown",
   "id": "2e81cc2c",
   "metadata": {},
   "source": [
    "### Features"
   ]
  },
  {
   "cell_type": "code",
   "execution_count": null,
   "id": "0b5ec5b1",
   "metadata": {},
   "outputs": [],
   "source": [
    "print(\"[INFO] Reading parquet files...\")\n",
    "df_embed  = pl.read_parquet(FILE_EMBEDDING)\n",
    "df_flight = pl.read_parquet(FILE_FLIGHT)\n",
    "df_price  = pl.read_parquet(FILE_PRICE)\n",
    "df_user   = pl.read_parquet(FILE_USER)\n",
    "df_add    = pl.read_parquet(FILE_ADDITIONAL)\n",
    "\n",
    "print(\"[INFO] Shapes:\")\n",
    "print(\"embed :\", df_embed.shape)\n",
    "print(\"flight:\", df_flight.shape)\n",
    "print(\"price :\", df_price.shape)\n",
    "print(\"user  :\", df_user.shape)\n",
    "print(\"add   :\", df_add.shape)"
   ]
  },
  {
   "cell_type": "code",
   "execution_count": null,
   "id": "f9101e79",
   "metadata": {},
   "outputs": [],
   "source": [
    "if \"flight_text\" in df_flight.columns:\n",
    "    df_flight = df_flight.drop(\"flight_text\")\n",
    "    print(\"[INFO] Dropped column `flight_text` from flight features -as it has been embedded\")"
   ]
  },
  {
   "cell_type": "code",
   "execution_count": null,
   "id": "6224e929",
   "metadata": {},
   "outputs": [],
   "source": [
    "assert \"row_id\" in df_embed.columns\n",
    "assert \"row_id\" in df_flight.columns\n",
    "assert \"row_id\" in df_price.columns\n",
    "assert \"row_id\" in df_user.columns\n",
    "assert \"row_id\" in df_add.columns"
   ]
  },
  {
   "cell_type": "code",
   "execution_count": null,
   "id": "e8369af8",
   "metadata": {},
   "outputs": [],
   "source": [
    "merged_df = (\n",
    "    df_embed\n",
    "    .join(df_flight, on=\"row_id\")\n",
    "    .join(df_price, on=\"row_id\")\n",
    "    .join(df_user, on=\"row_id\")\n",
    "    .join(df_add, on=\"row_id\")\n",
    ")"
   ]
  },
  {
   "cell_type": "code",
   "execution_count": null,
   "id": "ef3d4025",
   "metadata": {},
   "outputs": [],
   "source": [
    "merged_df.write_parquet(os.path.join(root_dir, \"data\", \"processed_test_features.parquet\"))"
   ]
  },
  {
   "cell_type": "markdown",
   "id": "f66e5a30",
   "metadata": {},
   "source": [
    "### Targets\n",
    "\n",
    "Test set does not have targets"
   ]
  },
  {
   "cell_type": "markdown",
   "id": "afc292f2",
   "metadata": {},
   "source": []
  }
 ],
 "metadata": {
  "language_info": {
   "name": "python"
  }
 },
 "nbformat": 4,
 "nbformat_minor": 5
}
