{
 "cells": [
  {
   "cell_type": "code",
   "execution_count": 1,
   "id": "25c7fea5",
   "metadata": {},
   "outputs": [
    {
     "data": {
      "text/plain": [
       "True"
      ]
     },
     "execution_count": 1,
     "metadata": {},
     "output_type": "execute_result"
    }
   ],
   "source": [
    "import sys\n",
    "import os\n",
    "from dotenv import load_dotenv\n",
    "\n",
    "root_dir = os.path.abspath(\"..\")\n",
    "sys.path.append(root_dir)\n",
    "dotenv_path = os.path.join(root_dir, \".env\")\n",
    "load_dotenv(dotenv_path)"
   ]
  },
  {
   "cell_type": "code",
   "execution_count": 2,
   "id": "cb1c86e2",
   "metadata": {},
   "outputs": [],
   "source": [
    "import polars as pl"
   ]
  },
  {
   "cell_type": "code",
   "execution_count": 3,
   "id": "e4c84b33",
   "metadata": {},
   "outputs": [],
   "source": [
    "FILE_FLIGHT_TRAIN = os.path.join(root_dir, \"data\", \"v1\", \"processed_flight_features_train.parquet\")\n",
    "FILE_PRICE_TRAIN = os.path.join(root_dir, \"data\", \"v1\", \"processed_pricing_features_train.parquet\")\n",
    "FILE_USER_TRAIN = os.path.join(root_dir, \"data\", \"v1\", \"processed_user_features_train.parquet\")\n",
    "FILE_ADDITIONAL_TRAIN = os.path.join(root_dir, \"data\", \"v1\", \"processed_additional_features_train.parquet\")"
   ]
  },
  {
   "cell_type": "code",
   "execution_count": 4,
   "id": "202a6583",
   "metadata": {},
   "outputs": [],
   "source": [
    "FILE_FLIGHT_TEST = os.path.join(root_dir, \"data\", \"v1\", \"processed_flight_features_test.parquet\")\n",
    "FILE_PRICE_TEST = os.path.join(root_dir, \"data\", \"v1\", \"processed_pricing_features_test.parquet\")\n",
    "FILE_USER_TEST = os.path.join(root_dir, \"data\", \"v1\", \"processed_user_features_test.parquet\")\n",
    "FILE_ADDITIONAL_TEST = os.path.join(root_dir, \"data\", \"v1\", \"processed_additional_features_test.parquet\")"
   ]
  },
  {
   "cell_type": "code",
   "execution_count": 5,
   "id": "9ae0e67b",
   "metadata": {},
   "outputs": [
    {
     "name": "stdout",
     "output_type": "stream",
     "text": [
      "[INFO] Reading TRAIN parquet files...\n",
      "[INFO] Shapes:\n",
      "flight: (18145372, 53)\n",
      "price : (18145372, 10)\n",
      "user  : (18145372, 10)\n",
      "add   : (18145372, 8)\n",
      "[INFO] Reading TEST parquet files...\n",
      "[INFO] Shapes:\n",
      "flight: (6897776, 53)\n",
      "price : (6897776, 10)\n",
      "user  : (6897776, 10)\n",
      "add   : (6897776, 8)\n"
     ]
    }
   ],
   "source": [
    "print(\"[INFO] Reading TRAIN parquet files...\")\n",
    "train_flight = pl.read_parquet(FILE_FLIGHT_TRAIN)\n",
    "train_price  = pl.read_parquet(FILE_PRICE_TRAIN)\n",
    "train_user   = pl.read_parquet(FILE_USER_TRAIN)\n",
    "train_add    = pl.read_parquet(FILE_ADDITIONAL_TRAIN)\n",
    "\n",
    "print(\"[INFO] Shapes:\")\n",
    "print(\"flight:\", train_flight.shape)\n",
    "print(\"price :\", train_price.shape)\n",
    "print(\"user  :\", train_user.shape)\n",
    "print(\"add   :\", train_add.shape)\n",
    "\n",
    "print(\"[INFO] Reading TEST parquet files...\")\n",
    "test_flight = pl.read_parquet(FILE_FLIGHT_TEST)\n",
    "test_price  = pl.read_parquet(FILE_PRICE_TEST)\n",
    "test_user   = pl.read_parquet(FILE_USER_TEST)\n",
    "test_add    = pl.read_parquet(FILE_ADDITIONAL_TEST)\n",
    "\n",
    "print(\"[INFO] Shapes:\")\n",
    "print(\"flight:\", test_flight.shape)\n",
    "print(\"price :\", test_price.shape)\n",
    "print(\"user  :\", test_user.shape)\n",
    "print(\"add   :\", test_add.shape)"
   ]
  },
  {
   "cell_type": "code",
   "execution_count": 6,
   "id": "9699f632",
   "metadata": {},
   "outputs": [],
   "source": [
    "train_df = (\n",
    "    train_flight\n",
    "    .join(train_price, on=\"row_id\")\n",
    "    .join(train_user, on=\"row_id\")\n",
    "    .join(train_add, on=\"row_id\")\n",
    ")\n",
    "\n",
    "test_df = (\n",
    "    test_flight\n",
    "    .join(test_price, on=\"row_id\")\n",
    "    .join(test_user, on=\"row_id\")\n",
    "    .join(test_add, on=\"row_id\")\n",
    ")"
   ]
  },
  {
   "cell_type": "markdown",
   "id": "80e3e0e3",
   "metadata": {},
   "source": [
    "### Add ranker_id and selected"
   ]
  },
  {
   "cell_type": "code",
   "execution_count": 7,
   "id": "417863df",
   "metadata": {},
   "outputs": [],
   "source": [
    "train_org_file = os.path.join(root_dir, \"kaggle\", \"train.parquet\")\n",
    "test_org_file = os.path.join(root_dir, \"kaggle\", \"test.parquet\")"
   ]
  },
  {
   "cell_type": "code",
   "execution_count": 12,
   "id": "abfc96e2",
   "metadata": {},
   "outputs": [],
   "source": [
    "train_org = pl.scan_parquet(train_org_file)\n",
    "test_org = pl.scan_parquet(test_org_file)\n",
    "\n",
    "train_org_group_id = train_org.select('ranker_id').with_row_index('row_id')\n",
    "test_org_group_id = test_org.select('ranker_id').with_row_index('row_id')\n",
    "\n",
    "train_target = train_org.select('selected').with_row_index('row_id')"
   ]
  },
  {
   "cell_type": "code",
   "execution_count": null,
   "id": "d8f7500f",
   "metadata": {},
   "outputs": [],
   "source": [
    "train_df = (\n",
    "    train_df\n",
    "    .join(train_org_group_id.collect(), on='row_id')\n",
    "    .sort([\"ranker_id\", \"go_total_flight_time\"])\n",
    "    .with_columns([\n",
    "        pl.col(\"go_total_flight_time\").rank(method='dense').over('ranker_id').alias('go_total_flight_time_rank'),\n",
    "        (pl.col(\"go_total_flight_time\") - pl.col(\"go_total_flight_time\").min().over('ranker_id')).fill_null(0.0).alias('go_total_flight_time_delta')\n",
    "    ])\n",
    "    .sort('row_id')\n",
    "    .sort([\"ranker_id\", \"rtn_total_flight_time\"])\n",
    "    .with_columns([\n",
    "        pl.col(\"rtn_total_flight_time\").rank(method='dense').over('ranker_id').alias('rtn_total_flight_time_rank'),\n",
    "        (pl.col(\"rtn_total_flight_time\") - pl.col(\"rtn_total_flight_time\").min().over('ranker_id')).fill_null(0.0).alias('rtn_total_flight_time_delta')\n",
    "    ])\n",
    "    .sort('row_id')\n",
    ")\n",
    "test_df = (\n",
    "    test_df\n",
    "    .join(test_org_group_id.collect(), on='row_id')\n",
    "    .sort([\"ranker_id\", \"go_total_flight_time\"])\n",
    "    .with_columns([\n",
    "        pl.col(\"go_total_flight_time\").rank(method='dense').over('ranker_id').alias('go_total_flight_time_rank'),\n",
    "        (pl.col(\"go_total_flight_time\") - pl.col(\"go_total_flight_time\").min().over('ranker_id')).fill_null(0.0).alias('go_total_flight_time_delta')\n",
    "    ])\n",
    "    .sort('row_id')\n",
    "    .sort([\"ranker_id\", \"rtn_total_flight_time\"])\n",
    "    .with_columns([\n",
    "        pl.col(\"rtn_total_flight_time\").rank(method='dense').over('ranker_id').alias('rtn_total_flight_time_rank'),\n",
    "        (pl.col(\"rtn_total_flight_time\") - pl.col(\"rtn_total_flight_time\").min().over('ranker_id')).fill_null(0.0).alias('rtn_total_flight_time_delta')\n",
    "    ])\n",
    "    .sort('row_id')\n",
    ")"
   ]
  },
  {
   "cell_type": "code",
   "execution_count": 27,
   "id": "86321b6f",
   "metadata": {},
   "outputs": [
    {
     "name": "stdout",
     "output_type": "stream",
     "text": [
      "train_df.shape (18145372, 83)\n",
      "train_target.shape (18145372, 2)\n",
      "\n",
      "test_df.shape (6897776, 83)\n"
     ]
    }
   ],
   "source": [
    "print(\"train_df.shape\", train_df.shape)\n",
    "print(\"train_target.shape\", train_target.collect().shape)\n",
    "print(\"\")\n",
    "print(\"test_df.shape\", test_df.shape)"
   ]
  },
  {
   "cell_type": "code",
   "execution_count": 29,
   "id": "5168afd8",
   "metadata": {},
   "outputs": [],
   "source": [
    "train_df.write_parquet(os.path.join(root_dir, \"data\", \"v1\", \"train.parquet\"))\n",
    "train_target.collect().write_parquet(os.path.join(root_dir, \"data\", \"v1\", \"train_target.parquet\"))\n",
    "test_df.write_parquet(os.path.join(root_dir, \"data\", \"v1\", \"test.parquet\"))"
   ]
  }
 ],
 "metadata": {
  "kernelspec": {
   "display_name": ".venv",
   "language": "python",
   "name": "python3"
  },
  "language_info": {
   "codemirror_mode": {
    "name": "ipython",
    "version": 3
   },
   "file_extension": ".py",
   "mimetype": "text/x-python",
   "name": "python",
   "nbconvert_exporter": "python",
   "pygments_lexer": "ipython3",
   "version": "3.12.9"
  }
 },
 "nbformat": 4,
 "nbformat_minor": 5
}
